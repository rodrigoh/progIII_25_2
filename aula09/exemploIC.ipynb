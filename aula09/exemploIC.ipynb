{
 "cells": [
  {
   "cell_type": "markdown",
   "metadata": {
    "id": "vKf3OpHDmo7r"
   },
   "source": [
    "\n",
    "### Calculando o intervalo de confiança para um conjunto de dados contendo alturas"
   ]
  },
  {
   "cell_type": "code",
   "execution_count": 14,
   "metadata": {
    "colab": {
     "base_uri": "https://localhost:8080/"
    },
    "executionInfo": {
     "elapsed": 2135,
     "status": "ok",
     "timestamp": 1745883069133,
     "user": {
      "displayName": "Rodrigo Henrich",
      "userId": "09742073617464076637"
     },
     "user_tz": 180
    },
    "id": "R0-f3dDrbTyq",
    "outputId": "ca1bb9e9-a240-497c-c9cd-6dfb655924f3"
   },
   "outputs": [
    {
     "name": "stdout",
     "output_type": "stream",
     "text": [
      "Intervalo de confiança de 95%: [1.6804, 1.7196]\n"
     ]
    }
   ],
   "source": [
    "import numpy as np\n",
    "try:\n",
    "    from scipy.stats import norm\n",
    "except Exception:\n",
    "    %pip install scipy\n",
    "    from scipy.stats import norm\n",
    "\n",
    "# Dados da amostra\n",
    "media_amostra = 1.70  # média em metros\n",
    "desvio_padrao = 0.10  # desvio padrão da amostra\n",
    "n = 100               # tamanho da amostra\n",
    "\n",
    "# Nível de confiança (95%)\n",
    "nivel_confianca = 0.95\n",
    "#0.05\n",
    "alpha = 1 - nivel_confianca\n",
    "\n",
    "# Valor crítico z\n",
    "z = norm.ppf(1 - alpha/2)  # z para 95% ≈ 1.96\n",
    "\n",
    "# Erro padrão da média\n",
    "erro_padrao = desvio_padrao / np.sqrt(n)\n",
    "\n",
    "# Intervalo de confiança\n",
    "limite_inferior = media_amostra - z * erro_padrao\n",
    "limite_superior = media_amostra + z * erro_padrao\n",
    "\n",
    "print(f\"Intervalo de confiança de 95%: [{limite_inferior:.4f}, {limite_superior:.4f}]\")"
   ]
  }
 ],
 "metadata": {
  "colab": {
   "authorship_tag": "ABX9TyON1RJzbPC2K6qiAGGvZGqh",
   "provenance": []
  },
  "kernelspec": {
   "display_name": "Python 3",
   "name": "python3"
  },
  "language_info": {
   "codemirror_mode": {
    "name": "ipython",
    "version": 3
   },
   "file_extension": ".py",
   "mimetype": "text/x-python",
   "name": "python",
   "nbconvert_exporter": "python",
   "pygments_lexer": "ipython3",
   "version": "3.13.7"
  }
 },
 "nbformat": 4,
 "nbformat_minor": 0
}
