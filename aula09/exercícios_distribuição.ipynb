{
  "nbformat": 4,
  "nbformat_minor": 0,
  "metadata": {
    "colab": {
      "provenance": []
    },
    "kernelspec": {
      "name": "python3",
      "display_name": "Python 3"
    },
    "language_info": {
      "name": "python"
    }
  },
  "cells": [
    {
      "cell_type": "markdown",
      "source": [
        "#1. Distribuição Normal Caso: Altura dos Funcionários\n",
        "Em uma empresa de tecnologia, a altura dos funcionários é modelada por uma distribuição normal com média\n",
        "μ=170  ou m= 170 cm e desvio padrão σ=10 cm.\n",
        "\n",
        "a) Qual é a probabilidade de um funcionário escolhido aleatoriamente ter altura entre 160 cm e 180 cm?\n",
        "\n",
        "b) Se a empresa quiser contratar funcionários entre 165 cm e 175 cm, qual percentual da população atenderia esse critério?\n"
      ],
      "metadata": {
        "id": "mwHgvtfjL1EH"
      }
    },
    {
      "cell_type": "code",
      "execution_count": null,
      "metadata": {
        "colab": {
          "base_uri": "https://localhost:8080/"
        },
        "id": "dim4d0qOL0Pj",
        "outputId": "f52e881f-c026-43bd-8c62-4c438acbb1ce"
      },
      "outputs": [
        {
          "output_type": "stream",
          "name": "stdout",
          "text": [
            "Probabilidade entre 160 e 180 cm: 0.6827 (68.27%)\n",
            "Probabilidade entre 165 e 175 cm: 0.3829 (38.29%)\n"
          ]
        }
      ],
      "source": [
        "from scipy.stats import norm\n",
        "\n",
        "# Parâmetros da distribuição\n",
        "mu = 170      # média\n",
        "sigma = 10    # desvio padrão\n",
        "\n",
        "# a) P(160 < X < 180)\n",
        "z1_a = (160 - mu) / sigma\n",
        "z2_a = (180 - mu) / sigma\n",
        "prob_a = norm.cdf(z2_a) - norm.cdf(z1_a)\n",
        "print(f\"Probabilidade entre 160 e 180 cm: {prob_a:.4f} ({prob_a*100:.2f}%)\")\n",
        "\n",
        "# b) P(165 < X < 175)\n",
        "z1_b = (165 - mu) / sigma\n",
        "z2_b = (175 - mu) / sigma\n",
        "prob_b = norm.cdf(z2_b) - norm.cdf(z1_b)\n",
        "print(f\"Probabilidade entre 165 e 175 cm: {prob_b:.4f} ({prob_b*100:.2f}%)\")"
      ]
    },
    {
      "cell_type": "markdown",
      "source": [
        "# 2. Distribuição Binomial\n",
        "Caso: Detecção de Fraudes\n",
        "Um sistema antifraude detecta corretamente uma transação fraudulenta com probabilidade de 0,8. Suponha que ele analise 5 transações suspeitas.\n",
        "\n",
        "a) Qual a probabilidade de o sistema detectar exatamente 4 fraudes?\n",
        "\n",
        "b) Qual a probabilidade de detectar ao menos 4 fraudes?"
      ],
      "metadata": {
        "id": "w8_lxPLxMPrV"
      }
    },
    {
      "cell_type": "code",
      "source": [
        "from scipy.stats import binom\n",
        "\n",
        "# Parâmetros\n",
        "n = 5       # número de transações\n",
        "p = 0.8     # probabilidade de sucesso\n",
        "\n",
        "# a) P(X = 4)\n",
        "prob_4 = binom.pmf(4, n, p)\n",
        "print(f\"Probabilidade de detectar exatamente 4 fraudes: {prob_4:.4f} ({prob_4*100:.2f}%)\")\n",
        "\n",
        "# b) P(X >= 4) = P(4) + P(5)\n",
        "prob_4 = binom.pmf(4, n, p)\n",
        "prob_5 = binom.pmf(5, n, p)\n",
        "prob_at_least_4 = prob_4 + prob_5\n",
        "print(f\"Probabilidade de detectar ao menos 4 fraudes: {prob_at_least_4:.4f} ({prob_at_least_4*100:.2f}%)\")\n",
        "\n"
      ],
      "metadata": {
        "colab": {
          "base_uri": "https://localhost:8080/"
        },
        "id": "AdzvvJpiMPQJ",
        "outputId": "e5833f24-e93b-47be-a92b-11361ee7e1e9"
      },
      "execution_count": null,
      "outputs": [
        {
          "output_type": "stream",
          "name": "stdout",
          "text": [
            "Probabilidade de detectar exatamente 4 fraudes: 0.4096 (40.96%)\n",
            "Probabilidade de detectar ao menos 4 fraudes: 0.7373 (73.73%)\n"
          ]
        }
      ]
    },
    {
      "cell_type": "markdown",
      "source": [
        "# 3. Distribuição de Poisson\n",
        "Caso: Acessos a um Site\n",
        "Um site de e-commerce registra em média 2 acessos simultâneos por minuto. Suponha que o número de acessos siga uma distribuição de Poisson.\n",
        "\n",
        "a) Qual é a probabilidade de não ter nenhum acesso em um minuto?\n",
        "\n",
        "b) Qual a probabilidade de ter exatamente 3 acessos em um minuto?"
      ],
      "metadata": {
        "id": "Dh71c_YuMdhj"
      }
    },
    {
      "cell_type": "code",
      "source": [
        "from scipy.stats import poisson\n",
        "\n",
        "# Parâmetro\n",
        "lamb = 2\n",
        "\n",
        "# a) P(X = 0)\n",
        "prob_0 = poisson.pmf(0, lamb)\n",
        "print(f\"Probabilidade de 0 acessos: {prob_0:.4f} ({prob_0*100:.2f}%)\")\n",
        "\n",
        "# b) P(X = 3)\n",
        "prob_3 = poisson.pmf(3, lamb)\n",
        "print(f\"Probabilidade de 3 acessos: {prob_3:.4f} ({prob_3*100:.2f}%)\")"
      ],
      "metadata": {
        "colab": {
          "base_uri": "https://localhost:8080/"
        },
        "id": "I2qq7ck3MgX3",
        "outputId": "4d5c6e81-67ae-4ea5-c780-57a94d7883a3"
      },
      "execution_count": null,
      "outputs": [
        {
          "output_type": "stream",
          "name": "stdout",
          "text": [
            "Probabilidade de 0 acessos: 0.1353 (13.53%)\n",
            "Probabilidade de 3 acessos: 0.1804 (18.04%)\n"
          ]
        }
      ]
    },
    {
      "cell_type": "markdown",
      "source": [
        "# 4. Distribuição Binomial\n",
        "Em uma pesquisa de mercado, 80% das pessoas responderam positivamente a uma pergunta sobre um novo produto. Se a pesquisa foi realizada com 10 pessoas, qual a probabilidade de exatamente 8 pessoas responderem positivamente?\n"
      ],
      "metadata": {
        "id": "mhYocsVwjn5w"
      }
    },
    {
      "cell_type": "code",
      "source": [
        "from scipy.stats import binom\n",
        "\n",
        "# Parâmetros\n",
        "n = 10      # número de pessoas\n",
        "p = 0.8     # probabilidade de resposta positiva\n",
        "\n",
        "# Probabilidade de exatamente 8 respostas positivas\n",
        "prob_8 = binom.pmf(8, n, p)\n",
        "print(f\"Probabilidade de exatamente 8 respostas positivas: {prob_8:.4f} ({prob_8*100:.2f}%)\")"
      ],
      "metadata": {
        "colab": {
          "base_uri": "https://localhost:8080/"
        },
        "id": "UpQsvTVIjpvP",
        "outputId": "0307ed75-cd33-4723-96f4-5f5b1b643d0d"
      },
      "execution_count": null,
      "outputs": [
        {
          "output_type": "stream",
          "name": "stdout",
          "text": [
            "Probabilidade de exatamente 8 respostas positivas: 0.3020 (30.20%)\n"
          ]
        }
      ]
    },
    {
      "cell_type": "markdown",
      "source": [
        "# 5. Distribuição Normal\n",
        "Se a altura média de mulheres adultas é de 165 cm com desvio padrão de 7 cm, qual a probabilidade de uma mulher adulta escolhida aleatoriamente ter altura superior a 172 cm?\n"
      ],
      "metadata": {
        "id": "QBiurtxKkIxI"
      }
    },
    {
      "cell_type": "code",
      "source": [
        "from scipy.stats import norm\n",
        "\n",
        "# Parâmetros\n",
        "mu = 165   # média\n",
        "sigma = 7  # desvio padrão\n",
        "x = 172    # altura\n",
        "\n",
        "# Calcular o valor Z\n",
        "z = (x - mu) / sigma\n",
        "\n",
        "# Calcular a probabilidade de X > 172\n",
        "prob = 1 - norm.cdf(z)\n",
        "\n",
        "print(f\"Probabilidade de altura superior a 172 cm: {prob:.4f} ({prob*100:.2f}%)\")\n"
      ],
      "metadata": {
        "colab": {
          "base_uri": "https://localhost:8080/"
        },
        "id": "r6pURqu6kMx8",
        "outputId": "ee6a6110-0715-43b3-e889-b50822fbf04f"
      },
      "execution_count": null,
      "outputs": [
        {
          "output_type": "stream",
          "name": "stdout",
          "text": [
            "Probabilidade de altura superior a 172 cm: 0.1587 (15.87%)\n"
          ]
        }
      ]
    },
    {
      "cell_type": "markdown",
      "source": [
        "# 6. Distribuição de Poisson\n",
        "A média de chamadas telefônicas que um call center recebe por hora é de 5. Qual a probabilidade de o call center receber exatamente 3 chamadas em uma hora?\n"
      ],
      "metadata": {
        "id": "oKdwPS1qkvJY"
      }
    },
    {
      "cell_type": "code",
      "source": [
        "from scipy.stats import poisson\n",
        "\n",
        "# Parâmetro\n",
        "lambda_ = 5  # média de chamadas por hora\n",
        "\n",
        "# Calcular a probabilidade de exatamente 3 chamadas\n",
        "prob_3 = poisson.pmf(3, lambda_)\n",
        "\n",
        "print(f\"Probabilidade de receber exatamente 3 chamadas: {prob_3:.4f} ({prob_3*100:.2f}%)\")\n"
      ],
      "metadata": {
        "colab": {
          "base_uri": "https://localhost:8080/"
        },
        "id": "OcMyww-Nkvyv",
        "outputId": "4c8a25ba-58a6-489c-eac6-5df8aafe624c"
      },
      "execution_count": null,
      "outputs": [
        {
          "output_type": "stream",
          "name": "stdout",
          "text": [
            "Probabilidade de receber exatamente 3 chamadas: 0.1404 (14.04%)\n"
          ]
        }
      ]
    },
    {
      "cell_type": "markdown",
      "source": [
        "# 7. Interpretação de Distribuição Binomial\n",
        "Se a probabilidade de um cliente comprar um produto em uma loja online é de 0,3, qual a probabilidade de em 6 clientes, pelo menos 2 realizarem uma compra?\n"
      ],
      "metadata": {
        "id": "UREdXycfk8Qo"
      }
    },
    {
      "cell_type": "code",
      "source": [
        "from scipy.stats import binom\n",
        "\n",
        "# Parâmetros\n",
        "n = 6       # número de clientes\n",
        "p = 0.3     # probabilidade de um cliente comprar\n",
        "\n",
        "# Probabilidade de X >= 2, ou seja, 1 - (P(X = 0) + P(X = 1))\n",
        "prob_0 = binom.pmf(0, n, p)\n",
        "prob_1 = binom.pmf(1, n, p)\n",
        "prob_at_least_2 = 1 - (prob_0 + prob_1)\n",
        "\n",
        "print(f\"Probabilidade de pelo menos 2 clientes realizarem a compra: {prob_at_least_2:.4f} ({prob_at_least_2*100:.2f}%)\")"
      ],
      "metadata": {
        "colab": {
          "base_uri": "https://localhost:8080/"
        },
        "id": "mi4L5yOjk-cB",
        "outputId": "4e95e0e7-ba09-4b0d-be52-be198efd8943"
      },
      "execution_count": null,
      "outputs": [
        {
          "output_type": "stream",
          "name": "stdout",
          "text": [
            "Probabilidade de pelo menos 2 clientes realizarem a compra: 0.5798 (57.98%)\n"
          ]
        }
      ]
    },
    {
      "cell_type": "markdown",
      "source": [
        "# 8. Distribuição Normal – Aplicação Prática\n",
        "Um fabricante de pneus afirma que seus pneus têm uma durabilidade média de 50.000 km, com desvio padrão de 2.000 km. Qual é a probabilidade de um pneu ter durabilidade inferior a 48.000 km?\n"
      ],
      "metadata": {
        "id": "fnhh2_PRlibk"
      }
    },
    {
      "cell_type": "code",
      "source": [
        "from scipy.stats import norm\n",
        "\n",
        "# Parâmetros\n",
        "mu = 50000     # média da durabilidade\n",
        "sigma = 2000   # desvio padrão\n",
        "x = 48000      # durabilidade desejada\n",
        "\n",
        "# Calcular o valor Z\n",
        "z = (x - mu) / sigma\n",
        "\n",
        "# Calcular a probabilidade P(X < 48.000)\n",
        "prob = norm.cdf(z)\n",
        "\n",
        "print(f\"Probabilidade de durabilidade inferior a 48.000 km: {prob:.4f} ({prob*100:.2f}%)\")\n"
      ],
      "metadata": {
        "id": "8n0_Si0vlmKF",
        "outputId": "cbd0e978-6f3e-4910-b53f-bfb020b77f35",
        "colab": {
          "base_uri": "https://localhost:8080/"
        }
      },
      "execution_count": null,
      "outputs": [
        {
          "output_type": "stream",
          "name": "stdout",
          "text": [
            "Probabilidade de durabilidade inferior a 48.000 km: 0.1587 (15.87%)\n"
          ]
        }
      ]
    },
    {
      "cell_type": "markdown",
      "source": [
        "# 9. Distribuição Poisson – Contagem de Eventos\n",
        "Em uma fábrica, o número médio de defeitos em uma peça produzida é de 0,2. Qual é a probabilidade de que uma peça escolhida aleatoriamente tenha exatamente 1 defeito?\n"
      ],
      "metadata": {
        "id": "ruoNQWSeNqfZ"
      }
    },
    {
      "cell_type": "code",
      "source": [
        "from scipy.stats import poisson\n",
        "\n",
        "# Parâmetro\n",
        "lambda_ = 0.2  # média de defeitos por peça\n",
        "\n",
        "# Calcular a probabilidade de exatamente 1 defeito\n",
        "prob_1 = poisson.pmf(1, lambda_)\n",
        "\n",
        "print(f\"Probabilidade de uma peça ter exatamente 1 defeito: {prob_1:.4f} ({prob_1*100:.2f}%)\")\n"
      ],
      "metadata": {
        "colab": {
          "base_uri": "https://localhost:8080/"
        },
        "id": "L8FbhDH3NszN",
        "outputId": "b1b07161-f3b0-4946-9583-5ab313e43ace"
      },
      "execution_count": null,
      "outputs": [
        {
          "output_type": "stream",
          "name": "stdout",
          "text": [
            "Probabilidade de uma peça ter exatamente 1 defeito: 0.1637 (16.37%)\n"
          ]
        }
      ]
    },
    {
      "cell_type": "markdown",
      "source": [
        "# 10. Cálculo de Probabilidade Binomial Acumulada\n",
        "Se a probabilidade de sucesso em um lançamento de dado (exatamente o número 6) é 1/6, qual é a probabilidade de obter no máximo 2 sucessos (resultados 6) em 5 lançamentos?\n"
      ],
      "metadata": {
        "id": "uir7l2DuOe-R"
      }
    },
    {
      "cell_type": "code",
      "source": [
        "from scipy.stats import binom\n",
        "\n",
        "# Parâmetros\n",
        "n = 5       # número de lançamentos\n",
        "p = 1/6     # probabilidade de sucesso em cada lançamento\n",
        "\n",
        "# Calcular a probabilidade acumulada de X <= 2\n",
        "prob_acumulada = binom.cdf(2, n, p)\n",
        "\n",
        "print(f\"Probabilidade de obter no máximo 2 sucessos: {prob_acumulada:.4f} ({prob_acumulada*100:.2f}%)\")\n"
      ],
      "metadata": {
        "id": "VwwvZ1ukOkKs",
        "outputId": "cb2bc8fa-c8da-4f9a-8fde-3df15f2005af",
        "colab": {
          "base_uri": "https://localhost:8080/"
        }
      },
      "execution_count": null,
      "outputs": [
        {
          "output_type": "stream",
          "name": "stdout",
          "text": [
            "Probabilidade de obter no máximo 2 sucessos: 0.9645 (96.45%)\n"
          ]
        }
      ]
    }
  ]
}