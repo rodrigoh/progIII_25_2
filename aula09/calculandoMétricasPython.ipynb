{
 "cells": [
  {
   "cell_type": "markdown",
   "metadata": {
    "id": "2BMDKNXsVfzR"
   },
   "source": [
    "### Medidas estatísticas"
   ]
  },
  {
   "cell_type": "markdown",
   "metadata": {
    "id": "f3exXBayVmUi"
   },
   "source": [
    "### Média"
   ]
  },
  {
   "cell_type": "code",
   "execution_count": 2,
   "metadata": {
    "colab": {
     "base_uri": "https://localhost:8080/"
    },
    "executionInfo": {
     "elapsed": 766,
     "status": "ok",
     "timestamp": 1744058341280,
     "user": {
      "displayName": "Rodrigo Henrich",
      "userId": "09742073617464076637"
     },
     "user_tz": 180
    },
    "id": "2G8DzQevVeHc",
    "outputId": "a90cb208-c54c-4b61-933e-2d5b0ccd070c"
   },
   "outputs": [
    {
     "name": "stdout",
     "output_type": "stream",
     "text": [
      "Média: 30.0\n",
      "Mediana: 30.0\n",
      "Moda: 30\n"
     ]
    }
   ],
   "source": [
    "import pandas as pd\n",
    "\n",
    "# Exemplo de um DataFrame (substitua pelos seus dados reais)\n",
    "data = {'valor': [10, 20, 30, 40, 50, 30]}\n",
    "df = pd.DataFrame(data)\n",
    "\n",
    "# Média\n",
    "media = df['valor'].mean()\n",
    "print(f'Média: {media}')\n",
    "\n",
    "# Mediana\n",
    "mediana = df['valor'].median()\n",
    "print(f'Mediana: {mediana}')\n",
    "\n",
    "# Moda (retorna como uma lista, então é possível acessar os n elementos para casos de mais de uma moda)\n",
    "moda = df['valor'].mode()\n",
    "print(f'Moda: {moda[0]}') # Acessando o primeiro valor da moda (caso haja mais de uma)\n"
   ]
  },
  {
   "cell_type": "code",
   "execution_count": null,
   "metadata": {
    "id": "Gzv8tAurYBx7"
   },
   "outputs": [],
   "source": [
    "data = {\n",
    "    'Nome': ['Alice', 'Bob', 'Charlie', 'David', 'Emily', 'Fernando', 'Gabriela', 'Henrique', 'Isabela', 'João',\n",
    "             'Karina', 'Lucas', 'Mariana', 'Nicolas', 'Olivia', 'Pedro', 'Quiteria', 'Ricardo', 'Sofia', 'Thiago',\n",
    "             'Ulisses', 'Viviane', 'Xavier', 'Alice', 'Mariana'],\n",
    "    'Idade': [5, 10, 20, 35, 28, 40, 31, 27, 29, 33,\n",
    "              26, 38, 34, 23, 36, 39, 24, 32, 37, 41,\n",
    "              19, 42, 45, 21, 65],\n",
    "    'Peso (kg)': [65, 70, 58, 80, 62, 95, 68, 72, 75, 88,\n",
    "                  60, 105, 78, 55, 83, 90, 59, 77, 85, 92,\n",
    "                  50, 110, 120, 53, 130],\n",
    "    'Altura (m)': [1.65, 1.75, 1.58, 1.80, 1.63, 1.80, 1.70, 1.78, 1.72, 1.85,\n",
    "                  1.60, 1.65, 1.77, 1.55, 1.82, 1.88, 1.59, 1.76, 1.83, 1.92,\n",
    "                  1.52, 1.98, 2.00, 1.57, 2.10]\n",
    "}\n",
    "\n",
    "df = pd.DataFrame(data)"
   ]
  },
  {
   "cell_type": "code",
   "execution_count": null,
   "metadata": {
    "colab": {
     "base_uri": "https://localhost:8080/"
    },
    "executionInfo": {
     "elapsed": 19,
     "status": "ok",
     "timestamp": 1744058348739,
     "user": {
      "displayName": "Rodrigo Henrich",
      "userId": "09742073617464076637"
     },
     "user_tz": 180
    },
    "id": "Uzm3YQ4_Y3Bs",
    "outputId": "6e683219-b567-482c-fafd-82a5cb43a60c"
   },
   "outputs": [
    {
     "name": "stdout",
     "output_type": "stream",
     "text": [
      "Média das idades 31.2\n",
      "Mediana das idades 32.0\n",
      "Média do peso  79.2\n",
      "Mediana do peso 77.0\n",
      "Média das alturas 1.7520000000000002\n",
      "Mediana das alturas 1.76\n",
      "Os nomes mais comum do dataset é  Alice e Mariana\n"
     ]
    }
   ],
   "source": [
    "print('Média das idades', df['Idade'].mean())\n",
    "print('Mediana das idades',df['Idade'].median())\n",
    "print('Média do peso ',df['Peso (kg)'].mean())\n",
    "print('Mediana do peso',df['Peso (kg)'].median())\n",
    "print('Média das alturas',df['Altura (m)'].mean())\n",
    "print('Mediana das alturas',df['Altura (m)'].median())\n",
    "moda = df['Nome'].mode()\n",
    "print('Os nomes mais comum do dataset é ',moda[0],'e', moda[1])"
   ]
  },
  {
   "cell_type": "markdown",
   "metadata": {
    "id": "6YLslrwU-DNg"
   },
   "source": [
    "### Amplititudo"
   ]
  },
  {
   "cell_type": "code",
   "execution_count": null,
   "metadata": {
    "colab": {
     "base_uri": "https://localhost:8080/"
    },
    "executionInfo": {
     "elapsed": 22,
     "status": "ok",
     "timestamp": 1744058633538,
     "user": {
      "displayName": "Rodrigo Henrich",
      "userId": "09742073617464076637"
     },
     "user_tz": 180
    },
    "id": "r_Rem3FL-KHY",
    "outputId": "cf528cec-6d44-44b0-ba82-bbfb08f3e0c2"
   },
   "outputs": [
    {
     "name": "stdout",
     "output_type": "stream",
     "text": [
      "Amplitide: 0.5800000000000001\n"
     ]
    }
   ],
   "source": [
    "coluna_altura = df['Altura (m)']\n",
    "amplitude = coluna_altura.max() - coluna_altura.min()\n",
    "print('Amplitide:',amplitude)"
   ]
  },
  {
   "cell_type": "markdown",
   "metadata": {
    "id": "mBQ4vdFo-sYb"
   },
   "source": [
    "### Variância"
   ]
  },
  {
   "cell_type": "code",
   "execution_count": null,
   "metadata": {
    "colab": {
     "base_uri": "https://localhost:8080/"
    },
    "executionInfo": {
     "elapsed": 18,
     "status": "ok",
     "timestamp": 1744058789781,
     "user": {
      "displayName": "Rodrigo Henrich",
      "userId": "09742073617464076637"
     },
     "user_tz": 180
    },
    "id": "Avoc7lHP-uM8",
    "outputId": "f7c5ee4e-0e29-4030-c6e2-ec0c9f25d53f"
   },
   "outputs": [
    {
     "name": "stdout",
     "output_type": "stream",
     "text": [
      "Variância populacional: 0.022975\n",
      "Variância populacional: 0.022056\n"
     ]
    }
   ],
   "source": [
    "#Variância amostra\n",
    "variancia = coluna_altura.var()\n",
    "print('Variância populacional:',variancia)\n",
    "#Variância populacional\n",
    "variancia = coluna_altura.var(ddof=0)\n",
    "print('Variância populacional:',variancia)"
   ]
  },
  {
   "cell_type": "markdown",
   "metadata": {
    "id": "b-boJolV_J-V"
   },
   "source": [
    "### Desvio padrão"
   ]
  },
  {
   "cell_type": "code",
   "execution_count": null,
   "metadata": {
    "colab": {
     "base_uri": "https://localhost:8080/"
    },
    "executionInfo": {
     "elapsed": 23,
     "status": "ok",
     "timestamp": 1744058830458,
     "user": {
      "displayName": "Rodrigo Henrich",
      "userId": "09742073617464076637"
     },
     "user_tz": 180
    },
    "id": "-zxMeMU8_L-9",
    "outputId": "cc2807e5-010d-479b-fa82-e3865e62da51"
   },
   "outputs": [
    {
     "name": "stdout",
     "output_type": "stream",
     "text": [
      "O desvio padrão: 0.15157506391224118\n",
      "O desvio padrão populacional: 0.14851262572589577\n"
     ]
    }
   ],
   "source": [
    "#Desvio padrão amostra\n",
    "desvio_padrao = coluna_altura.std()\n",
    "print('O desvio padrão:',desvio_padrao)\n",
    "#Desvio padrão populacional\n",
    "desvio_padrao = coluna_altura.std(ddof=0)\n",
    "print('O desvio padrão populacional:',desvio_padrao)"
   ]
  },
  {
   "cell_type": "markdown",
   "metadata": {
    "id": "dX4RmJ90BHn0"
   },
   "source": [
    "### Intervalo interquartil\n",
    "Conjunto de dados:\n",
    "[2, 4, 7, 9, 10, 25]\n",
    "\n",
    "Média = 9.5\n",
    "Mediana = 7.5\n",
    "\n",
    "Q1 = 4\n",
    "\n",
    "Q3 = 10\n",
    "\n",
    "IQR = Q3 - Q1 = 10 - 4 = 6\n",
    "\n",
    "Então o IQR nos diz:\n",
    "\n",
    "→ Os 50% centrais dos dados estão entre 4 e 10.\n",
    "\n",
    "Note que o 25 é um valor bem alto, fora desse intervalo ele seria considerado possível outlier."
   ]
  },
  {
   "cell_type": "code",
   "execution_count": null,
   "metadata": {
    "colab": {
     "base_uri": "https://localhost:8080/"
    },
    "executionInfo": {
     "elapsed": 31,
     "status": "ok",
     "timestamp": 1744059112376,
     "user": {
      "displayName": "Rodrigo Henrich",
      "userId": "09742073617464076637"
     },
     "user_tz": 180
    },
    "id": "bWs7BKCFBKrk",
    "outputId": "a931971c-4761-427b-dc5c-399bee48a269"
   },
   "outputs": [
    {
     "name": "stdout",
     "output_type": "stream",
     "text": [
      "IQR: 0.20000000000000018\n"
     ]
    }
   ],
   "source": [
    "#Obtendo o primeiro quartil\n",
    "q1= coluna_altura.quantile(0.25)\n",
    "#Obtendo o terceiro quartil\n",
    "q3 = coluna_altura.quantile(0.75)\n",
    "iqr = q3 - q1\n",
    "print('IQR:',iqr)"
   ]
  },
  {
   "cell_type": "markdown",
   "metadata": {
    "id": "Yf_-YIPpsDct"
   },
   "source": [
    "## Exemplo usando o boxplot"
   ]
  },
  {
   "cell_type": "code",
   "execution_count": 3,
   "metadata": {
    "colab": {
     "base_uri": "https://localhost:8080/",
     "height": 410
    },
    "executionInfo": {
     "elapsed": 167,
     "status": "ok",
     "timestamp": 1744584176488,
     "user": {
      "displayName": "Rodrigo Henrich",
      "userId": "09742073617464076637"
     },
     "user_tz": 180
    },
    "id": "i1ZFgdnssC4e",
    "outputId": "3a453c98-d7a4-447a-a62f-ae4c2d358e0d"
   },
   "outputs": [
    {
     "data": {
      "image/png": "[encoded data removed]",
      "text/plain": [
       "<Figure size 600x400 with 1 Axes>"
      ]
     },
     "metadata": {},
     "output_type": "display_data"
    }
   ],
   "source": [
    "import pandas as pd\n",
    "import matplotlib.pyplot as plt\n",
    "\n",
    "# Exemplo de dados\n",
    "dados = [2, 4, 7, 9, 10, 25]\n",
    "\n",
    "# Criar um DataFrame\n",
    "df = pd.DataFrame(dados, columns=['Valores'])\n",
    "\n",
    "# Criar o boxplot\n",
    "plt.figure(figsize=(6, 4))\n",
    "plt.boxplot(df['Valores'], vert=False, patch_artist=True, boxprops=dict(facecolor='lightblue'))\n",
    "plt.title('Exemplo de Boxplot')\n",
    "plt.xlabel('Valores')\n",
    "plt.grid(True, axis='x', linestyle='--', alpha=0.7)\n",
    "plt.show()"
   ]
  },
  {
   "cell_type": "markdown",
   "metadata": {
    "id": "pUIVeI5a1mAJ"
   },
   "source": [
    "## Usando o histograma"
   ]
  },
  {
   "cell_type": "code",
   "execution_count": 9,
   "metadata": {
    "id": "f9a58Uhx1lTV"
   },
   "outputs": [],
   "source": [
    "import matplotlib.pyplot as plt\n",
    "dados = {'Idade':[18, 19, 20, 22, 23, 23, 25, 30, 35, 40]}\n",
    "df = pd.DataFrame(dados)"
   ]
  },
  {
   "cell_type": "code",
   "execution_count": null,
   "metadata": {
    "colab": {
     "base_uri": "https://localhost:8080/"
    },
    "executionInfo": {
     "elapsed": 223,
     "status": "ok",
     "timestamp": 1744141904847,
     "user": {
      "displayName": "Rodrigo Henrich",
      "userId": "09742073617464076637"
     },
     "user_tz": 180
    },
    "id": "R-HRKceL1OvL",
    "outputId": "94bb38b7-4c26-4477-c0a5-451302bfb468"
   },
   "outputs": [
    {
     "data": {
      "image/png": "[encoded data removed]",
      "text/plain": [
       "<Figure size 640x480 with 1 Axes>"
      ]
     },
     "metadata": {},
     "output_type": "display_data"
    }
   ],
   "source": [
    "#df['Idade'].hist(bins=6, color='skyblue', edgecolor='black')\n",
    "#bins = divisões\n",
    "df['Idade'].hist(bins=6, color='skyblue')\n",
    "plt.xlabel('Idade')\n",
    "plt.ylabel('Quantidade de Pessoas')\n",
    "plt.title('Histograma de Idade')\n",
    "#Mostrar o grid, se omitido é True\n",
    "plt.grid(False)\n",
    "plt.show()"
   ]
  },
  {
   "cell_type": "markdown",
   "metadata": {},
   "source": [
    "### No gráfico não mostrado o valor para 26 porque não temos nenhuma pessoa com 26 anos na lista"
   ]
  }
 ],
 "metadata": {
  "colab": {
   "authorship_tag": "ABX9TyMzEqGiY3gbo2ifZ7eprUy4",
   "provenance": []
  },
  "kernelspec": {
   "display_name": "Python 3",
   "name": "python3"
  },
  "language_info": {
   "codemirror_mode": {
    "name": "ipython",
    "version": 3
   },
   "file_extension": ".py",
   "mimetype": "text/x-python",
   "name": "python",
   "nbconvert_exporter": "python",
   "pygments_lexer": "ipython3",
   "version": "3.13.7"
  }
 },
 "nbformat": 4,
 "nbformat_minor": 0
}
