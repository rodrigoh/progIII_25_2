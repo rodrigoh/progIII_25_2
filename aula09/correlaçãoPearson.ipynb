{
 "cells": [
  {
   "cell_type": "markdown",
   "metadata": {
    "id": "eGdeWQXj4uN9"
   },
   "source": [
    "### Calcula a matriz de correlação: A função np.corrcoef(x, y) calcula a matriz de correlação. Para duas variáveis, essa matriz tem o seguinte formato:\n",
    "\n",
    "|correlação(x, x) | correlação(x, y)|\n",
    "|------------------------|-------------------------|\n",
    "|correlação(y, x) | correlação(y, y) |\n",
    "\n",
    "**correlação(x, x)** e **correlação(y, y)** são sempre 1 (a correlação de uma variável consigo mesma é perfeita).\n",
    "\n",
    "**correlação(x, y)** e **correlação(y, x)** são iguais e representam o coeficiente de correlação de Pearson entre x e y."
   ]
  },
  {
   "cell_type": "code",
   "execution_count": 12,
   "metadata": {
    "colab": {
     "base_uri": "https://localhost:8080/"
    },
    "executionInfo": {
     "elapsed": 64,
     "status": "ok",
     "timestamp": 1745883380388,
     "user": {
      "displayName": "Rodrigo Henrich",
      "userId": "09742073617464076637"
     },
     "user_tz": 180
    },
    "id": "ICIFHf-Z3YTd",
    "outputId": "e6c5ad26-19e2-44a3-ab87-f3dd1738d3ae"
   },
   "outputs": [
    {
     "name": "stdout",
     "output_type": "stream",
     "text": [
      "Os dados da variável X são: [1 2 3 4 5]\n",
      "Os dados da variável Y são: [2 3 5 4 6]\n",
      "O coeficiente de correlação de Pearson entre X e Y é: 0.9000\n",
      "[[1.  0.9]\n",
      " [0.9 1. ]]\n"
     ]
    }
   ],
   "source": [
    "import numpy as np\n",
    "\n",
    "# Suponha que você tenha duas listas (ou arrays NumPy) representando seus dados\n",
    "x = np.array([1, 2, 3, 4, 5])\n",
    "y = np.array([2, 3, 5, 4, 6])\n",
    "\n",
    "# Use a função corrcoef() do NumPy para calcular a matriz de correlação\n",
    "# Para duas variáveis, a matriz de correlação será 2x2, onde os valores fora da\n",
    "# diagonal principal representam o coeficiente de correlação entre as variáveis.\n",
    "matriz_correlacao = np.corrcoef(x, y)\n",
    "\n",
    "# O coeficiente de correlação de Pearson estará no elemento [0, 1] ou [1, 0] da matriz\n",
    "correlacao_pearson = matriz_correlacao[0, 1]\n",
    "\n",
    "print(f\"Os dados da variável X são: {x}\")\n",
    "print(f\"Os dados da variável Y são: {y}\")\n",
    "print(f\"O coeficiente de correlação de Pearson entre X e Y é: {correlacao_pearson:.4f}\")\n",
    "print(matriz_correlacao)"
   ]
  }
 ],
 "metadata": {
  "colab": {
   "authorship_tag": "ABX9TyNjJ7VrWeHd5dsc1nCh9672",
   "provenance": []
  },
  "kernelspec": {
   "display_name": "Python 3",
   "name": "python3"
  },
  "language_info": {
   "codemirror_mode": {
    "name": "ipython",
    "version": 3
   },
   "file_extension": ".py",
   "mimetype": "text/x-python",
   "name": "python",
   "nbconvert_exporter": "python",
   "pygments_lexer": "ipython3",
   "version": "3.13.7"
  }
 },
 "nbformat": 4,
 "nbformat_minor": 0
}
