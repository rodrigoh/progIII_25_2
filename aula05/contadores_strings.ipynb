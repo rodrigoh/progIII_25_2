{
 "cells": [
  {
   "cell_type": "markdown",
   "id": "638bc3c6-85f3-407d-9473-c5fcb489068f",
   "metadata": {},
   "source": [
    "# Exemplo Counter"
   ]
  },
  {
   "cell_type": "code",
   "execution_count": 1,
   "id": "91903784-120d-4a22-bf1b-d330870306a5",
   "metadata": {},
   "outputs": [
    {
     "name": "stdout",
     "output_type": "stream",
     "text": [
      "Counter({6: 3, 3: 2, 4: 2, 5: 2, 1: 1, 2: 1})\n"
     ]
    }
   ],
   "source": [
    "from collections import Counter\n",
    "\n",
    "l = [1,2,3,3,4,4,5,5,6,6,6]\n",
    "contador = Counter(l)\n",
    "print(contador)"
   ]
  },
  {
   "cell_type": "code",
   "execution_count": 2,
   "id": "b4a70ed8-e2a7-4a17-ad91-97bc1c6ef2e3",
   "metadata": {},
   "outputs": [
    {
     "name": "stdout",
     "output_type": "stream",
     "text": [
      "Counter({'a': 3, 'n': 2, 'b': 1})\n",
      "Counter({'a': 6, 'b': 2, 'n': 2, 'c': 1, 'x': 1, 'i': 1})\n"
     ]
    }
   ],
   "source": [
    "texto = \"banana\"\n",
    "contador = Counter(texto)\n",
    "print(contador)\n",
    "contador.update(\"abacaxi\")\n",
    "print(contador)"
   ]
  },
  {
   "cell_type": "markdown",
   "id": "dcc34d87-37ce-4830-808d-b59e55ebce2c",
   "metadata": {},
   "source": [
    "# Exemplos de conjuntos"
   ]
  },
  {
   "cell_type": "code",
   "execution_count": 3,
   "id": "00d4f4b4-39b3-40e7-88a7-7abcd744765c",
   "metadata": {},
   "outputs": [
    {
     "name": "stdout",
     "output_type": "stream",
     "text": [
      "{1, 2, 3, 4, 5, 6}\n",
      "set()\n"
     ]
    }
   ],
   "source": [
    "#União de conjuntos\n",
    "a = {1,2,3}\n",
    "b = {4,5,6}\n",
    "#União de dois conjuntos\n",
    "c3 = a | b\n",
    "print(c3)\n",
    "#Intersecção de conjuntos\n",
    "c4 = a & b\n",
    "print(c4)"
   ]
  },
  {
   "cell_type": "code",
   "execution_count": 6,
   "id": "fee4483f-e634-4d68-bb98-f192791cce32",
   "metadata": {},
   "outputs": [
    {
     "name": "stdout",
     "output_type": "stream",
     "text": [
      "[1, 1, 2, 2, 3, 4, 2]\n",
      "{1, 2, 3, 4}\n",
      "{1, 2, 3, 4}\n"
     ]
    }
   ],
   "source": [
    "#Diferente de listas os conjuntos não permitem elementos repetidos\n",
    "l = [1,1,2,2,3,4,2]\n",
    "print(l)\n",
    "c1 = set(l)\n",
    "print(c1)\n",
    "#Valores repetidos são ignorados\n",
    "c2 = {1,1,2,2,3,4,2}\n",
    "print(c2)"
   ]
  },
  {
   "cell_type": "code",
   "execution_count": 11,
   "id": "1b9857b6-ba28-4498-9535-03a5eede9473",
   "metadata": {},
   "outputs": [
    {
     "name": "stdout",
     "output_type": "stream",
     "text": [
      "{3, 4}\n"
     ]
    }
   ],
   "source": [
    "#Intersecção de conjuntos\n",
    "a = {1,2,3,4}\n",
    "b = {3,4,5,6}\n",
    "c3 = a & b\n",
    "print(c3)"
   ]
  },
  {
   "cell_type": "code",
   "execution_count": 13,
   "id": "ce246071-8bda-4dfe-a6e3-bedf62124183",
   "metadata": {},
   "outputs": [
    {
     "name": "stdout",
     "output_type": "stream",
     "text": [
      "{1, 2}\n",
      "{5, 6}\n"
     ]
    }
   ],
   "source": [
    "# Diferença entre dois conjuntos\n",
    "a = {1,2,3,4}\n",
    "b = {3,4,5,6}\n",
    "c3 = a - b\n",
    "print(c3)\n",
    "c3 = b - a\n",
    "print(c3)"
   ]
  },
  {
   "cell_type": "code",
   "execution_count": 14,
   "id": "1ccc5d26-2ab8-4056-83bf-23859b0b5eb8",
   "metadata": {},
   "outputs": [
    {
     "name": "stdout",
     "output_type": "stream",
     "text": [
      "{1, 2, 5, 6}\n"
     ]
    }
   ],
   "source": [
    "# Diferença simétrica entre dois conjuntos\n",
    "a = {1,2,3,4}\n",
    "b = {3,4,5,6}\n",
    "c3 = a ^ b\n",
    "print(c3)"
   ]
  },
  {
   "cell_type": "markdown",
   "id": "5baf07cf-30d0-4700-a77e-a58756b999e0",
   "metadata": {},
   "source": [
    "# Exemplos com String"
   ]
  },
  {
   "cell_type": "code",
   "execution_count": 15,
   "id": "dd9383fe-6794-4d5e-bc88-ffe8a5e2d78e",
   "metadata": {},
   "outputs": [],
   "source": [
    "frase = \"aula de programação de compudores na terça feira a noite no Cimol\""
   ]
  },
  {
   "cell_type": "code",
   "execution_count": 16,
   "id": "85c3c88b-4c20-430c-9864-1ba5022cf22a",
   "metadata": {},
   "outputs": [
    {
     "name": "stdout",
     "output_type": "stream",
     "text": [
      "AULA DE PROGRAMAÇÃO DE COMPUDORES NA TERÇA FEIRA A NOITE NO CIMOL\n"
     ]
    }
   ],
   "source": [
    "frase_maiuscula = frase.upper()\n",
    "print(frase_maiuscula)"
   ]
  },
  {
   "cell_type": "code",
   "execution_count": 17,
   "id": "9bd32e40-06df-4262-9870-1592a073630f",
   "metadata": {},
   "outputs": [
    {
     "name": "stdout",
     "output_type": "stream",
     "text": [
      "aula de programação de compudores na terça feira a noite no cimol\n"
     ]
    }
   ],
   "source": [
    "frase_minuscula = frase.lower()\n",
    "print(frase_minuscula)"
   ]
  },
  {
   "cell_type": "code",
   "execution_count": 19,
   "id": "0de94539-92a8-45c4-89c8-96d455448d7a",
   "metadata": {},
   "outputs": [
    {
     "name": "stdout",
     "output_type": "stream",
     "text": [
      "Aula de programação de compudores na terça feira a noite no cimol\n"
     ]
    }
   ],
   "source": [
    "frase_capt = frase.capitalize()\n",
    "print(frase_capt)"
   ]
  },
  {
   "cell_type": "code",
   "execution_count": 20,
   "id": "631596e4-7364-4031-98d9-3bf82ef548b4",
   "metadata": {},
   "outputs": [
    {
     "name": "stdout",
     "output_type": "stream",
     "text": [
      "Aula De Programação De Compudores Na Terça Feira A Noite No Cimol\n"
     ]
    }
   ],
   "source": [
    "frase_title = frase.title()\n",
    "print(frase_title)"
   ]
  },
  {
   "cell_type": "code",
   "execution_count": 26,
   "id": "df6f1e13-d786-40cc-a6db-f3af2be9d04b",
   "metadata": {},
   "outputs": [
    {
     "name": "stdout",
     "output_type": "stream",
     "text": [
      "A frase é    aula de programação     com muitos espaços\n",
      "A frase é aula de programação sem os espaços\n"
     ]
    }
   ],
   "source": [
    "frase = '   aula de programação    '\n",
    "print('A frase é',frase,'com muitos espaços')\n",
    "print('A frase é',frase.strip(),'sem os espaços')"
   ]
  },
  {
   "cell_type": "code",
   "execution_count": 27,
   "id": "b16aa99d-6b31-4fae-b0a1-df5e0699bc17",
   "metadata": {},
   "outputs": [
    {
     "name": "stdout",
     "output_type": "stream",
     "text": [
      "8\n"
     ]
    }
   ],
   "source": [
    "frase = \"aula de programação de compudores na terça feira a noite no Cimol\"\n",
    "posicao = frase.find('programação')\n",
    "print(posicao)"
   ]
  },
  {
   "cell_type": "code",
   "execution_count": 28,
   "id": "246aa405-e2ca-45f1-b4e3-65a0ea5e2a1f",
   "metadata": {},
   "outputs": [
    {
     "name": "stdout",
     "output_type": "stream",
     "text": [
      "2\n"
     ]
    }
   ],
   "source": [
    "frase = \"teste para testar como funciona o comando count\"\n",
    "contador = frase.count(\"test\")\n",
    "print(contador)"
   ]
  },
  {
   "cell_type": "code",
   "execution_count": 32,
   "id": "3f1ed34a-f0a1-4034-bcdf-ccde8d302117",
   "metadata": {},
   "outputs": [
    {
     "name": "stdout",
     "output_type": "stream",
     "text": [
      "True\n"
     ]
    }
   ],
   "source": [
    "#Retorna true se todos os caracteres forem letras de a - z\n",
    "frase = \"testeparaverificar\"\n",
    "print(frase.isalpha())"
   ]
  },
  {
   "cell_type": "code",
   "execution_count": 36,
   "id": "796be2c6-0b10-4378-b4a8-213648343b2f",
   "metadata": {},
   "outputs": [
    {
     "name": "stdout",
     "output_type": "stream",
     "text": [
      "False\n"
     ]
    }
   ],
   "source": [
    "#Retorna true se todos os caracteres forem números de 1 a 9\n",
    "frase = \"123456790\"\n",
    "print(frase.isdigit())"
   ]
  },
  {
   "cell_type": "code",
   "execution_count": 40,
   "id": "c1b8db1b-18b9-479f-ad66-f7239840f1b0",
   "metadata": {},
   "outputs": [
    {
     "name": "stdout",
     "output_type": "stream",
     "text": [
      "True\n"
     ]
    }
   ],
   "source": [
    "#Retorna true se todos os caracteres forem espaços\n",
    "frase = \"   \"\n",
    "print(frase.isspace())"
   ]
  },
  {
   "cell_type": "code",
   "execution_count": 8,
   "id": "4b7085bb-0b5b-4cc4-b281-f3deb31662bd",
   "metadata": {},
   "outputs": [
    {
     "name": "stdout",
     "output_type": "stream",
     "text": [
      "['aula', 'de', 'programação', 'de', 'compudores', 'na', 'terça', 'feira', 'a', 'noite', 'no', 'Cimol']\n"
     ]
    }
   ],
   "source": [
    "#Retorna uma lista com a separação da string pela str delimitada\n",
    "frase = \"aula de programação de compudores na terça feira a noite no Cimol\"\n",
    "lista = frase.split(' ')\n",
    "print(lista)"
   ]
  },
  {
   "cell_type": "code",
   "execution_count": 47,
   "id": "f4b5ae2f-05e0-47cd-ae40-d3011a4072bd",
   "metadata": {},
   "outputs": [
    {
     "name": "stdout",
     "output_type": "stream",
     "text": [
      "***teste do center***\n"
     ]
    }
   ],
   "source": [
    "frase = \"teste do center\"\n",
    "\n",
    "print(frase.center(21,'*'))"
   ]
  },
  {
   "cell_type": "code",
   "execution_count": 48,
   "id": "f6c0efaa-182a-4f79-ba88-042d1d4fe25e",
   "metadata": {},
   "outputs": [
    {
     "name": "stdout",
     "output_type": "stream",
     "text": [
      "aULA dE programação\n"
     ]
    }
   ],
   "source": [
    "frase = \"Aula De PROGRAMAÇÃO\"\n",
    "print(frase.swapcase())"
   ]
  }
 ],
 "metadata": {
  "kernelspec": {
   "display_name": "Python 3 (ipykernel)",
   "language": "python",
   "name": "python3"
  },
  "language_info": {
   "codemirror_mode": {
    "name": "ipython",
    "version": 3
   },
   "file_extension": ".py",
   "mimetype": "text/x-python",
   "name": "python",
   "nbconvert_exporter": "python",
   "pygments_lexer": "ipython3",
   "version": "3.13.7"
  }
 },
 "nbformat": 4,
 "nbformat_minor": 5
}
