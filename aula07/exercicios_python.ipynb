{
 "cells": [
  {
   "cell_type": "markdown",
   "id": "b057f335",
   "metadata": {},
   "source": [
    "# Exercício 1: Peça ao usuário um número e diga se ele é par ou ímpar."
   ]
  },
  {
   "cell_type": "code",
   "execution_count": 1,
   "id": "e1fd0c38",
   "metadata": {},
   "outputs": [
    {
     "name": "stdin",
     "output_type": "stream",
     "text": [
      "Digite um número:  8\n"
     ]
    },
    {
     "name": "stdout",
     "output_type": "stream",
     "text": [
      "8 é par\n"
     ]
    }
   ],
   "source": [
    "numero = int(input('Digite um número: '))\n",
    "if numero % 2 == 0:\n",
    "    print(f'{numero} é par')\n",
    "else:\n",
    "    print(f'{numero} é impar')"
   ]
  },
  {
   "cell_type": "markdown",
   "id": "0f51e595",
   "metadata": {},
   "source": [
    "# Exercício 2: Leia a idade de uma pessoa e informe se ela é menor de idade, adulta ou idosa (>= 60)."
   ]
  },
  {
   "cell_type": "code",
   "execution_count": 2,
   "id": "b8bff903",
   "metadata": {},
   "outputs": [
    {
     "name": "stdin",
     "output_type": "stream",
     "text": [
      "Qual sua idade:  30\n"
     ]
    },
    {
     "name": "stdout",
     "output_type": "stream",
     "text": [
      "Você é adulto\n"
     ]
    }
   ],
   "source": [
    "idade = int(input('Qual sua idade: '))\n",
    "if idade<18:\n",
    "    print('Você é menor de idade')\n",
    "elif idade<60:\n",
    "    print('Você é adulto')\n",
    "else:\n",
    "    print('Você é idoso')"
   ]
  },
  {
   "cell_type": "markdown",
   "id": "d14c3125",
   "metadata": {},
   "source": [
    "# Exercício 3: Peça duas notas e calcule a média. Diga se o aluno está aprovado (média >= 7)."
   ]
  },
  {
   "cell_type": "code",
   "execution_count": 3,
   "id": "9a1481a7",
   "metadata": {},
   "outputs": [
    {
     "name": "stdin",
     "output_type": "stream",
     "text": [
      "Qual a primeira nota:  11\n",
      "A nota precisa estar entre 1 e 10:  8\n",
      "Qual a segunda nota:  6\n"
     ]
    },
    {
     "name": "stdout",
     "output_type": "stream",
     "text": [
      "A média do aluno é 7.00\n"
     ]
    }
   ],
   "source": [
    "n1 = float(input('Qual a primeira nota: '))\n",
    "while n1<0 or n1>10:\n",
    "   n1 = float(input('A nota precisa estar entre 1 e 10: ')) \n",
    "\n",
    "n2 = float(input('Qual a segunda nota: '))\n",
    "while n2<0 or n2>10:\n",
    "   n2 = float(input('A nota precisa estar entre 1 e 10: ')) \n",
    "\n",
    "media = (n1+n2)/2\n",
    "\n",
    "print(f'A média do aluno é {media:.2f}')"
   ]
  },
  {
   "cell_type": "markdown",
   "id": "fbd11a3d",
   "metadata": {},
   "source": [
    "# Exercício 4: Solicite o nome de uma pessoa e diga se ele começa com a letra 'A'."
   ]
  },
  {
   "cell_type": "code",
   "execution_count": 10,
   "id": "4472f0d7",
   "metadata": {},
   "outputs": [
    {
     "name": "stdin",
     "output_type": "stream",
     "text": [
      "Qual seu nome:  Pedro\n"
     ]
    }
   ],
   "source": [
    "nome = input('Qual seu nome: ').upper()\n",
    "if nome[0]=='A':\n",
    "    print('O nome inicia em A')"
   ]
  },
  {
   "cell_type": "code",
   "execution_count": 11,
   "id": "ecd39ff9-6c03-4c5d-aa6d-18e1dfd0e007",
   "metadata": {},
   "outputs": [
    {
     "name": "stdin",
     "output_type": "stream",
     "text": [
      "Qual seu nome:  Ana\n"
     ]
    },
    {
     "name": "stdout",
     "output_type": "stream",
     "text": [
      "O nome inicia em A\n"
     ]
    }
   ],
   "source": [
    "nome = input('Qual seu nome: ').upper()\n",
    "lista = list(nome)\n",
    "if lista[0]=='A':\n",
    "    print('O nome inicia em A')"
   ]
  },
  {
   "cell_type": "code",
   "execution_count": 8,
   "id": "5228eae7-3a25-4648-9fda-6d475fdb9eb9",
   "metadata": {},
   "outputs": [
    {
     "name": "stdin",
     "output_type": "stream",
     "text": [
      "Qual seu nome:  Pedro\n"
     ]
    }
   ],
   "source": [
    "nome = input('Qual seu nome: ').upper()\n",
    "if nome.startswith('A'):\n",
    "    print('O nome inicia em A')"
   ]
  },
  {
   "cell_type": "markdown",
   "id": "9a6ecffb",
   "metadata": {},
   "source": [
    "# Exercício 5: Peça um número inteiro e verifique se ele é positivo, negativo ou zero."
   ]
  },
  {
   "cell_type": "code",
   "execution_count": null,
   "id": "78453c72",
   "metadata": {},
   "outputs": [],
   "source": []
  },
  {
   "cell_type": "markdown",
   "id": "ed41b4ca",
   "metadata": {},
   "source": [
    "# Exercício 6: Imprima os números de 1 a 10 com for."
   ]
  },
  {
   "cell_type": "code",
   "execution_count": 14,
   "id": "efb34a6c",
   "metadata": {},
   "outputs": [
    {
     "name": "stdout",
     "output_type": "stream",
     "text": [
      "1 2 3 4 5 6 7 8 9 10 "
     ]
    }
   ],
   "source": [
    "for i in range(1,11):\n",
    "    print(i, end=' ')"
   ]
  },
  {
   "cell_type": "markdown",
   "id": "83163c5e",
   "metadata": {},
   "source": [
    "# Exercício 7: Imprima os números de 10 a 1 com while."
   ]
  },
  {
   "cell_type": "code",
   "execution_count": 15,
   "id": "28c47327",
   "metadata": {},
   "outputs": [
    {
     "name": "stdout",
     "output_type": "stream",
     "text": [
      "10 9 8 7 6 5 4 3 2 1 "
     ]
    }
   ],
   "source": [
    "i=10\n",
    "while i>0:\n",
    "    print(i, end=' ')\n",
    "    i-=1"
   ]
  },
  {
   "cell_type": "markdown",
   "id": "408ae015",
   "metadata": {},
   "source": [
    "# Exercício 8: Calcule a soma dos números de 1 a 100."
   ]
  },
  {
   "cell_type": "code",
   "execution_count": 16,
   "id": "b6835c14",
   "metadata": {},
   "outputs": [
    {
     "name": "stdout",
     "output_type": "stream",
     "text": [
      "A soma dos números entre 1 e 100 vale 5050\n"
     ]
    }
   ],
   "source": [
    "soma = 0\n",
    "for i in range(1,101):\n",
    "    soma+=i\n",
    "print(f'A soma dos números entre 1 e 100 vale {soma}')"
   ]
  },
  {
   "cell_type": "code",
   "execution_count": 17,
   "id": "11f3841f-2170-416f-86f1-74caf3f9149f",
   "metadata": {},
   "outputs": [
    {
     "name": "stdout",
     "output_type": "stream",
     "text": [
      "A soma dos números entre 1 e 100 vale 5050\n"
     ]
    }
   ],
   "source": [
    "soma = sum(range(1,101))\n",
    "print(f'A soma dos números entre 1 e 100 vale {soma}')"
   ]
  },
  {
   "cell_type": "markdown",
   "id": "ec740a27",
   "metadata": {},
   "source": [
    "# Exercício 9: Peça 5 números ao usuário e diga qual é o maior."
   ]
  },
  {
   "cell_type": "code",
   "execution_count": 19,
   "id": "c4e65c0a",
   "metadata": {},
   "outputs": [
    {
     "name": "stdin",
     "output_type": "stream",
     "text": [
      "Digite o 1° número:  5\n",
      "Digite o 2° número:  2\n",
      "Digite o 3° número:  1\n",
      "Digite o 4° número:  9\n",
      "Digite o 5° número:  7\n"
     ]
    },
    {
     "name": "stdout",
     "output_type": "stream",
     "text": [
      "O maior número digitado foi 9\n"
     ]
    }
   ],
   "source": [
    "maior:int\n",
    "for i in range(5):\n",
    "    num = int(input(f'Digite o {i+1}° número: '))\n",
    "    if i==0:\n",
    "        maior = num\n",
    "    elif num>maior:\n",
    "       maior = num\n",
    "print(f'O maior número digitado foi {maior}')"
   ]
  },
  {
   "cell_type": "code",
   "execution_count": 20,
   "id": "082171b4-97e0-46ae-bf93-11f1c485d78c",
   "metadata": {},
   "outputs": [
    {
     "name": "stdin",
     "output_type": "stream",
     "text": [
      "Digite o 1° número:  5\n",
      "Digite o 2° número:  2\n",
      "Digite o 3° número:  1\n",
      "Digite o 4° número:  9\n",
      "Digite o 5° número:  7\n"
     ]
    },
    {
     "name": "stdout",
     "output_type": "stream",
     "text": [
      "O maior número digitado foi 9\n"
     ]
    }
   ],
   "source": [
    "l = []\n",
    "for i in range(5):\n",
    "    num = int(input(f'Digite o {i+1}° número: '))\n",
    "    l.append(num)\n",
    "maior = max(l)\n",
    "print(f'O maior número digitado foi {maior}')"
   ]
  },
  {
   "cell_type": "code",
   "execution_count": 22,
   "id": "9aa8e600-293f-4324-8c3f-2a35c015a020",
   "metadata": {},
   "outputs": [
    {
     "name": "stdin",
     "output_type": "stream",
     "text": [
      "Digite o 1° número:  5\n",
      "Digite o 2° número:  2\n",
      "Digite o 3° número:  1\n",
      "Digite o 4° número:  9\n",
      "Digite o 5° número:  7\n"
     ]
    },
    {
     "name": "stdout",
     "output_type": "stream",
     "text": [
      "O maior número digitado foi 9\n"
     ]
    }
   ],
   "source": [
    "maior = None\n",
    "for i in range(5):\n",
    "    num = int(input(f'Digite o {i+1}° número: '))\n",
    "    if maior==None or num>maior:\n",
    "        maior = num\n",
    "print(f'O maior número digitado foi {maior}')"
   ]
  },
  {
   "cell_type": "markdown",
   "id": "3916a505",
   "metadata": {},
   "source": [
    "# Exercício 10: Peça números ao usuário até que ele digite 0, e então exiba a média dos valores digitados."
   ]
  },
  {
   "cell_type": "code",
   "execution_count": 24,
   "id": "22b5920b-4051-49c4-806f-2de060107a85",
   "metadata": {},
   "outputs": [
    {
     "name": "stdin",
     "output_type": "stream",
     "text": [
      "Digite um número:  5\n",
      "Digite um número:  5\n",
      "Digite um número:  5\n",
      "Digite um número:  0\n"
     ]
    },
    {
     "name": "stdout",
     "output_type": "stream",
     "text": [
      "A média dos números digitados foi 5.0\n"
     ]
    }
   ],
   "source": [
    "cont = 0\n",
    "soma = 0\n",
    "num = 1\n",
    "while num!=0:\n",
    "    num = int(input('Digite um número: '))\n",
    "    if num!=0:\n",
    "        soma+=num\n",
    "        cont+=1\n",
    "media = soma/cont\n",
    "print(f'A média dos números digitados foi {media}')"
   ]
  },
  {
   "cell_type": "code",
   "execution_count": 25,
   "id": "a7c8729f",
   "metadata": {},
   "outputs": [
    {
     "name": "stdin",
     "output_type": "stream",
     "text": [
      "Digite um número:  5\n",
      "Digite um número:  5\n",
      "Digite um número:  5\n",
      "Digite um número:  0\n"
     ]
    },
    {
     "name": "stdout",
     "output_type": "stream",
     "text": [
      "A média dos números digitados foi 5.0\n"
     ]
    }
   ],
   "source": [
    "cont = 0\n",
    "soma = 0\n",
    "num = 1\n",
    "while num!=0:\n",
    "    num = int(input('Digite um número: '))\n",
    "    soma+=num\n",
    "    cont+=1\n",
    "media = soma/(cont-1)\n",
    "print(f'A média dos números digitados foi {media}')"
   ]
  },
  {
   "cell_type": "markdown",
   "id": "5178e752",
   "metadata": {},
   "source": [
    "# Exercício 11: Crie uma lista com 5 números digitados pelo usuário e imprima a lista."
   ]
  },
  {
   "cell_type": "code",
   "execution_count": 29,
   "id": "5f40ed1a",
   "metadata": {},
   "outputs": [
    {
     "name": "stdout",
     "output_type": "stream",
     "text": [
      "[2, 13, 5, 19, 1]\n"
     ]
    }
   ],
   "source": [
    "import random\n",
    "lista = [random.randint(1,20) for _ in range(5)]\n",
    "print(lista)"
   ]
  },
  {
   "cell_type": "markdown",
   "id": "0983311d",
   "metadata": {},
   "source": [
    "# Exercício 12: Some todos os elementos de uma lista."
   ]
  },
  {
   "cell_type": "code",
   "execution_count": 30,
   "id": "5f5d23a3",
   "metadata": {},
   "outputs": [
    {
     "name": "stdout",
     "output_type": "stream",
     "text": [
      "A soma dos elementos da lista vale 40\n"
     ]
    }
   ],
   "source": [
    "soma = 0\n",
    "for i in lista:\n",
    "    soma+=i\n",
    "print(f'A soma dos elementos da lista vale {soma}')"
   ]
  },
  {
   "cell_type": "code",
   "execution_count": 35,
   "id": "daee139e-1d3a-459d-8025-0389af62f46f",
   "metadata": {},
   "outputs": [
    {
     "name": "stdout",
     "output_type": "stream",
     "text": [
      "A soma dos elementos da lista vale 40\n"
     ]
    }
   ],
   "source": [
    "soma = sum(lista)\n",
    "print(f'A soma dos elementos da lista vale {soma}')"
   ]
  },
  {
   "cell_type": "markdown",
   "id": "84c598b8",
   "metadata": {},
   "source": [
    "# Exercício 13: Encontre o maior e o menor valor de uma lista."
   ]
  },
  {
   "cell_type": "code",
   "execution_count": 36,
   "id": "ceb0f310",
   "metadata": {},
   "outputs": [
    {
     "name": "stdout",
     "output_type": "stream",
     "text": [
      "O maior número na lista é 19 e o menor é 1\n"
     ]
    }
   ],
   "source": [
    "maior = max(lista)\n",
    "menor = min(lista)\n",
    "print(f'O maior número na lista é {maior} e o menor é {menor}')"
   ]
  },
  {
   "cell_type": "markdown",
   "id": "b3401528",
   "metadata": {},
   "source": [
    "# Exercício 14: Conte quantos números pares existem em uma lista."
   ]
  },
  {
   "cell_type": "code",
   "execution_count": 37,
   "id": "1b87a5ce",
   "metadata": {},
   "outputs": [
    {
     "name": "stdout",
     "output_type": "stream",
     "text": [
      "[13, 15, 13, 28, 28, 29, 20, 6, 32, 8, 18, 19, 1, 33, 16, 19, 22, 1, 16, 32]\n",
      "Da lista são pares 11 números\n"
     ]
    }
   ],
   "source": [
    "lista = [random.randint(1,50) for _ in range(20)]\n",
    "print(lista)\n",
    "cont = 0\n",
    "for i in lista:\n",
    "    if i % 2 == 0:\n",
    "        cont+=1\n",
    "print(f'Da lista são pares {cont} números')"
   ]
  },
  {
   "cell_type": "code",
   "execution_count": 39,
   "id": "92b2fbf3-dec5-4e7f-8905-bca9d9a58a4d",
   "metadata": {},
   "outputs": [
    {
     "name": "stdout",
     "output_type": "stream",
     "text": [
      "Da lista são pares 11 números\n"
     ]
    }
   ],
   "source": [
    "cont = sum(1 for i in lista if i % 2 == 0)\n",
    "print(f'Da lista são pares {cont} números')"
   ]
  },
  {
   "cell_type": "markdown",
   "id": "f5ff5c1b",
   "metadata": {},
   "source": [
    "# Exercício 15: Peça uma lista de nomes e diga quantos começam com a letra 'M'."
   ]
  },
  {
   "cell_type": "code",
   "execution_count": 46,
   "id": "76400be8",
   "metadata": {},
   "outputs": [
    {
     "name": "stdin",
     "output_type": "stream",
     "text": [
      "Digite um nome:  Mario\n",
      "Digite um nome:  maria\n",
      "Digite um nome:  pedro\n",
      "Digite um nome:  jonas\n",
      "Digite um nome:  ana\n"
     ]
    },
    {
     "name": "stdout",
     "output_type": "stream",
     "text": [
      "Dos nomes digitados iniciam com 'M' 2\n"
     ]
    }
   ],
   "source": [
    "nomes = []\n",
    "cont = 0\n",
    "for i in range(5):\n",
    "    nome = input('Digite um nome: ').capitalize()\n",
    "    if nome[0]=='M':\n",
    "        cont+=1\n",
    "print(f\"Dos nomes digitados iniciam com 'M' {cont}\")"
   ]
  },
  {
   "cell_type": "code",
   "execution_count": 45,
   "id": "a7513c32-beba-42b7-a1d3-1d444e6b5bba",
   "metadata": {},
   "outputs": [
    {
     "name": "stdin",
     "output_type": "stream",
     "text": [
      "Digite nomes separados por vírgula:  Mario, maria, pedro, jonas\n"
     ]
    },
    {
     "name": "stdout",
     "output_type": "stream",
     "text": [
      "Dos nomes digitados iniciam com 'M' 2\n"
     ]
    }
   ],
   "source": [
    "nomes = input('Digite nomes separados por vírgula: ').split(',')\n",
    "# para cada nome, converta para maúsculo, remova os espaços no início e fim e verifica se inicia com M\n",
    "cont = sum(1 for nome in nomes if nome.upper().strip().startswith('M'))\n",
    "print(f\"Dos nomes digitados iniciam com 'M' {cont}\")"
   ]
  },
  {
   "cell_type": "markdown",
   "id": "72d0dc42",
   "metadata": {},
   "source": [
    "# Desafio 1: Peça ao usuário uma quantidade de alunos e, para cada um, o nome e duas notas. Armazene em listas e exiba a média de cada aluno."
   ]
  },
  {
   "cell_type": "code",
   "execution_count": 1,
   "id": "4b399b79-10d1-41af-b329-1ea84b1595fc",
   "metadata": {},
   "outputs": [],
   "source": [
    "def le_nota(indicador):\n",
    "    nota = float(input(f'Qual a {indicador}° nota: '))\n",
    "    while nota<0 or nota>10:\n",
    "       nota = float(input('A nota precisa estar entre 1 e 10: ')) \n",
    "    return nota"
   ]
  },
  {
   "cell_type": "code",
   "execution_count": 54,
   "id": "c7ac75b2",
   "metadata": {},
   "outputs": [
    {
     "name": "stdin",
     "output_type": "stream",
     "text": [
      "Quantos alunos temos na turma:  1\n",
      "Qual o nome do aluno 1:  Jonas\n",
      "Qual a 1° nota:  8\n",
      "Qual a 2° nota:  11\n",
      "A nota precisa estar entre 1 e 10:  8\n"
     ]
    },
    {
     "name": "stdout",
     "output_type": "stream",
     "text": [
      "[('Jonas', 8.0)]\n",
      "Nome: Jonas, média:8.00\n"
     ]
    }
   ],
   "source": [
    "turma = []\n",
    "quant = int(input('Quantos alunos temos na turma: '))\n",
    "i = 0\n",
    "while i < quant:\n",
    "    nome = input(f'Qual o nome do aluno {i+1}: ')\n",
    "    \n",
    "    n1 = le_nota(1)\n",
    "\n",
    "    n2 = le_nota(2)\n",
    "    \n",
    "    media = (n1+n2)/2\n",
    "    \n",
    "    turma.append((nome, media))\n",
    "\n",
    "    i+=1\n",
    "print(turma)\n",
    "for nome, media in turma:\n",
    "    print(f'Nome: {nome}, média:{media:.2f}')"
   ]
  },
  {
   "cell_type": "code",
   "execution_count": 51,
   "id": "50a346c3-a04d-4a8b-9f17-4ec4f3c9aa4e",
   "metadata": {},
   "outputs": [
    {
     "name": "stdout",
     "output_type": "stream",
     "text": [
      "[('Jonas', 8.5), ('Ana', 9.0)]\n",
      "<class 'tuple'>\n"
     ]
    }
   ],
   "source": [
    "print(turma)\n",
    "print(type(turma[0]))"
   ]
  },
  {
   "cell_type": "markdown",
   "id": "27300b0d",
   "metadata": {},
   "source": [
    "# Desafio 2: Gere uma lista com os números de 1 a 20, mas apenas os múltiplos de 3."
   ]
  },
  {
   "cell_type": "code",
   "execution_count": 58,
   "id": "30371484",
   "metadata": {},
   "outputs": [
    {
     "name": "stdout",
     "output_type": "stream",
     "text": [
      "São múltiplos de 3 entre 1 e 20 [3, 6, 9, 12, 15, 18]\n"
     ]
    }
   ],
   "source": [
    "lista = []\n",
    "for x in range(1,21):\n",
    "    if x % 3 == 0:\n",
    "        lista.append(x)\n",
    "print(f'São múltiplos de 3 entre 1 e 20 {lista}')"
   ]
  },
  {
   "cell_type": "code",
   "execution_count": 59,
   "id": "ff8b0a2f-f4f1-4ad7-ae3f-3d065e80bf76",
   "metadata": {},
   "outputs": [
    {
     "name": "stdout",
     "output_type": "stream",
     "text": [
      "São múltiplos de 3 entre 1 e 20 [3, 6, 9, 12, 15, 18]\n"
     ]
    }
   ],
   "source": [
    "lista = [x for x in range(1,21) if x % 3 == 0]\n",
    "print(f'São múltiplos de 3 entre 1 e 20 {lista}')"
   ]
  },
  {
   "cell_type": "markdown",
   "id": "1505ef2a",
   "metadata": {},
   "source": [
    "# Desafio 3: Peça ao usuário 10 números e exiba quais são primos."
   ]
  },
  {
   "cell_type": "code",
   "execution_count": 2,
   "id": "58dcb059",
   "metadata": {},
   "outputs": [],
   "source": [
    "#O python permite anotações de tipo, tanto em parâmetros quanto em retorno, neste caso usando a ->\n",
    "def e_primo(n:int) -> bool:\n",
    "    cont_div = 0\n",
    "    i = 1\n",
    "    while i<=n:\n",
    "        if n%i==0:\n",
    "            cont_div+=1\n",
    "        i+=1\n",
    "    return cont_div==2"
   ]
  },
  {
   "cell_type": "code",
   "execution_count": 3,
   "id": "3bc00b17-1b75-4191-a00e-82c4f45ca0b7",
   "metadata": {},
   "outputs": [
    {
     "name": "stdout",
     "output_type": "stream",
     "text": [
      "[52, 81, 50, 67, 20, 55, 90, 23, 38, 71]\n",
      "Dos números acima são primos: \n",
      "67 23 71 "
     ]
    }
   ],
   "source": [
    "import random\n",
    "lista = [random.randint(1,100) for _ in range(10)]\n",
    "print(lista)\n",
    "print('Dos números acima são primos: ')\n",
    "for i in lista:\n",
    "    if e_primo(i):\n",
    "        print(i, end=' ')"
   ]
  },
  {
   "cell_type": "code",
   "execution_count": 7,
   "id": "084ba8d8-abbf-419c-80f6-466fec7d7c37",
   "metadata": {},
   "outputs": [
    {
     "name": "stdout",
     "output_type": "stream",
     "text": [
      "[52, 81, 50, 67, 20, 55, 90, 23, 38, 71]\n",
      "Dos números acima são primos: \n",
      "[67, 23, 71]\n"
     ]
    }
   ],
   "source": [
    "print(lista)\n",
    "print('Dos números acima são primos: ')\n",
    "primos = [x for x in lista if e_primo(x)]\n",
    "print(primos)"
   ]
  },
  {
   "cell_type": "markdown",
   "id": "d1f38556",
   "metadata": {},
   "source": [
    "# Desafio 4: Dada uma lista de números, crie uma nova lista apenas com os valores únicos (sem repetições)."
   ]
  },
  {
   "cell_type": "code",
   "execution_count": 8,
   "id": "1babc947",
   "metadata": {},
   "outputs": [
    {
     "name": "stdout",
     "output_type": "stream",
     "text": [
      "[1, 1, 2, 3, 4, 1, 2, 4, 5]\n",
      "Os valores únicos de lista são [1, 2, 3, 4, 5]\n"
     ]
    }
   ],
   "source": [
    "lista = [1,1,2,3,4,1,2,4,5]\n",
    "print(lista)\n",
    "unicos = []\n",
    "for i in lista:\n",
    "    if i not in unicos:\n",
    "        unicos.append(i)\n",
    "\n",
    "print(f'Os valores únicos de lista são {unicos}')"
   ]
  },
  {
   "cell_type": "code",
   "execution_count": 10,
   "id": "d2a3b485-e274-4263-aaf2-28585666c53d",
   "metadata": {},
   "outputs": [
    {
     "name": "stdout",
     "output_type": "stream",
     "text": [
      "[1, 1, 2, 3, 4, 1, 2, 4, 5]\n",
      "[1, 2, 3, 4, 5]\n"
     ]
    }
   ],
   "source": [
    "lista = [1,1,2,3,4,1,2,4,5]\n",
    "print(lista)\n",
    "unicos = list(set(lista))\n",
    "print(unicos)"
   ]
  },
  {
   "cell_type": "markdown",
   "id": "9e3f4031",
   "metadata": {},
   "source": [
    "# Desafio 5: Crie um programa que simula um menu de opções (ex: cadastrar item, listar itens, sair), usando while e if."
   ]
  },
  {
   "cell_type": "code",
   "execution_count": null,
   "id": "6098900f",
   "metadata": {},
   "outputs": [],
   "source": []
  }
 ],
 "metadata": {
  "kernelspec": {
   "display_name": "Python 3 (ipykernel)",
   "language": "python",
   "name": "python3"
  },
  "language_info": {
   "codemirror_mode": {
    "name": "ipython",
    "version": 3
   },
   "file_extension": ".py",
   "mimetype": "text/x-python",
   "name": "python",
   "nbconvert_exporter": "python",
   "pygments_lexer": "ipython3",
   "version": "3.13.7"
  }
 },
 "nbformat": 4,
 "nbformat_minor": 5
}
