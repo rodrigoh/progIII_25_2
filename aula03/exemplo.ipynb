{
 "cells": [
  {
   "cell_type": "markdown",
   "id": "15297cbb",
   "metadata": {},
   "source": [
    "# Título de nível 1\n",
    "## Título de nível 2\n",
    "\n",
    "* Item 1 da lista\n",
    "* Item 2 da lista"
   ]
  },
  {
   "cell_type": "markdown",
   "id": "36a8db2d",
   "metadata": {},
   "source": [
    "# Recapulando"
   ]
  },
  {
   "cell_type": "code",
   "execution_count": 1,
   "id": "30f5f7b4",
   "metadata": {},
   "outputs": [
    {
     "name": "stdout",
     "output_type": "stream",
     "text": [
      "Usando o notebook para código python\n"
     ]
    }
   ],
   "source": [
    "print('Usando o notebook para código python')"
   ]
  },
  {
   "cell_type": "markdown",
   "id": "78321830",
   "metadata": {},
   "source": [
    "# Tipos de dados\n",
    "\n",
    "* int (números inteiros)\n",
    "* float (números reais float, double)\n",
    "* str (letras ou textos)\n",
    "* boolean (True ou False)"
   ]
  },
  {
   "cell_type": "code",
   "execution_count": 1,
   "id": "68c81e0b",
   "metadata": {},
   "outputs": [
    {
     "name": "stdin",
     "output_type": "stream",
     "text": [
      "Digite seu nome:  Jonas\n"
     ]
    },
    {
     "name": "stdout",
     "output_type": "stream",
     "text": [
      "Nome = Jonas, e o tipo é <class 'str'>\n"
     ]
    }
   ],
   "source": [
    "nome = input('Digite seu nome: ')\n",
    "print(f'Nome = {nome}, e o tipo é {type(nome)}')"
   ]
  },
  {
   "cell_type": "markdown",
   "id": "4bca3602",
   "metadata": {},
   "source": [
    "# Casting de tipo\n",
    "\n",
    "No java ou C\n",
    "\n",
    "int numero = (int) string\n",
    "\n",
    "numero  = int(string)"
   ]
  },
  {
   "cell_type": "code",
   "execution_count": 3,
   "id": "b396515e",
   "metadata": {},
   "outputs": [
    {
     "name": "stdout",
     "output_type": "stream",
     "text": [
      "Nome: Jonas tem 20 anos e mede 1.80 metros\n",
      "Tipo de idade <class 'int'>\n",
      "Tipo de altura <class 'float'>\n"
     ]
    }
   ],
   "source": [
    "idade = int(input('Qual sua idade: '))\n",
    "altura = float(input('Qual sua altura em metros: '))\n",
    "print(f'Nome: {nome} tem {idade} anos e mede {altura:.2f} metros')\n",
    "print(f\"Tipo de idade {type(idade)}\")\n",
    "print(f\"Tipo de altura {type(altura)}\")"
   ]
  },
  {
   "cell_type": "markdown",
   "id": "ef8d2382-b5be-4fb9-9f60-aca370d8e3da",
   "metadata": {},
   "source": [
    "# Operadores aritméticos\n",
    "\n",
    "* '+' soma\n",
    "* '-' subtração\n",
    "* '*' multiplicação\n",
    "* '/' divisão\n",
    "* '//' divisão inteira\n",
    "* '%' resto da divisão\n",
    "* '**' exponenciação"
   ]
  },
  {
   "cell_type": "code",
   "execution_count": 4,
   "id": "b3a20d3a-e1d1-450c-bc09-060cec9895c9",
   "metadata": {},
   "outputs": [
    {
     "name": "stdout",
     "output_type": "stream",
     "text": [
      "5 + 2 = 7\n",
      "5 - 2 = 3\n",
      "5 * 2 = 10\n",
      "5 / 2 = 2.5\n",
      "5 // 2 = 2\n",
      "5 % 2 = 1\n",
      "5**2 = 25\n",
      "pow(5,2) = 25\n"
     ]
    }
   ],
   "source": [
    "a = 5\n",
    "b = 2\n",
    "print(f'{a} + {b} = {a+b}')\n",
    "print(f'{a} - {b} = {a-b}')\n",
    "print(f'{a} * {b} = {a*b}')\n",
    "print(f'{a} / {b} = {a/b}')\n",
    "print(f'{a} // {b} = {a//b}')\n",
    "print(f'{a} % {b} = {a%b}') \n",
    "print(f'{a}**{b} = {a**b}')\n",
    "print(f'pow({a},{b}) = {pow(a,b)}')"
   ]
  },
  {
   "cell_type": "code",
   "execution_count": 7,
   "id": "81da3a61-8e3c-4f65-bdca-dad2fcb1f461",
   "metadata": {},
   "outputs": [
    {
     "name": "stdout",
     "output_type": "stream",
     "text": [
      "math.sqrt(144) = 12.0\n"
     ]
    }
   ],
   "source": [
    "# importar bibliotecas de funções\n",
    "import math\n",
    "\n",
    "valor = 144\n",
    "print(f'math.sqrt({valor}) = {math.sqrt(valor)}')"
   ]
  },
  {
   "cell_type": "markdown",
   "id": "a4dca2b6-66b0-4ac4-a764-b499f5c4e2ca",
   "metadata": {},
   "source": [
    "# Usando o operador is e in"
   ]
  },
  {
   "cell_type": "code",
   "execution_count": 17,
   "id": "ebc17b68-faaf-4f77-9222-8866adef0714",
   "metadata": {},
   "outputs": [
    {
     "name": "stdout",
     "output_type": "stream",
     "text": [
      "[1, 2, 3] is [1, 2, 3] = True\n",
      "[1, 2, 3] in [1, 2, 3] = False\n",
      "[1, 2, 3] is [1, 2, 3] = False\n",
      "[1, 2, 3] == [1, 2, 3] = True\n",
      "[1, 2, 3] in [1, 2, 3, [1, 2, 3]] = True\n"
     ]
    }
   ],
   "source": [
    "a = [1,2,3]\n",
    "b = a\n",
    "c = [1,2,3]\n",
    "d = [1,2,3,b]\n",
    "print(f'{a} is {b} = {a is b}')\n",
    "print(f'{a} in {b} = {a in b}')\n",
    "print(f'{a} is {c} = {a is c}')\n",
    "print(f'{a} == {c} = {a == c}')\n",
    "print(f'{a} in {d} = {a in d}')\n"
   ]
  },
  {
   "cell_type": "code",
   "execution_count": 19,
   "id": "94f3f378-3d21-4d1f-bdd2-e853437bcfc0",
   "metadata": {},
   "outputs": [
    {
     "name": "stdout",
     "output_type": "stream",
     "text": [
      "programação in frase?  False\n"
     ]
    }
   ],
   "source": [
    "frase = 'aula de programação de computadores'\n",
    "print('programação in frase? ','programação' in frase)"
   ]
  },
  {
   "cell_type": "markdown",
   "id": "2e63f529-e961-42b0-a0fb-290c3def379b",
   "metadata": {},
   "source": [
    "# Estruturas de seleção\n",
    "# Operadores relacionais\n",
    " * '<' menor que\n",
    " * '>' maior que\n",
    " * '<=' menor ou igual a\n",
    " * '>=' maior ou igual a\n",
    " * '!=' diferente\n",
    " * '==' igual a\n",
    "### Operadores lógicos\n",
    "* and E (&&) lógico (para ter True como resposta ambos precisam ser True)\n",
    "* or OU lógico (||) (para ter True como resposta pelo menor um dos termos precisa ser verdade)\n",
    "* not Não lógico (!) (inverte a reposta True vira False e False vira True)"
   ]
  },
  {
   "cell_type": "code",
   "execution_count": 25,
   "id": "2e75fd11-9009-4143-a565-feee33496d80",
   "metadata": {},
   "outputs": [
    {
     "name": "stdin",
     "output_type": "stream",
     "text": [
      "Digite um número:  5\n"
     ]
    },
    {
     "name": "stdout",
     "output_type": "stream",
     "text": [
      "O número 5 é positivo\n",
      "O número 5 é positivo\n"
     ]
    }
   ],
   "source": [
    "numero = int(input('Digite um número: '))\n",
    "#Igual ao if do Java\n",
    "if numero == 0:\n",
    "  print('O número é zero')\n",
    "#Faz o papel do else if\n",
    "elif numero > 0:\n",
    "  print(f'O número {numero} é positivo')\n",
    "  print('O número',numero,'é positivo')\n",
    "#Igual ao else do Java\n",
    "else:\n",
    "  print(f'O número {numero} é negativo')"
   ]
  },
  {
   "cell_type": "markdown",
   "id": "ad720a14-a32a-457c-8cf7-222ee48129d7",
   "metadata": {},
   "source": [
    "## switch..case ou melhor match..case"
   ]
  },
  {
   "cell_type": "code",
   "execution_count": 1,
   "id": "50004f8e-51d2-4ec9-ae34-b6bb2eb9b9e6",
   "metadata": {},
   "outputs": [
    {
     "name": "stdin",
     "output_type": "stream",
     "text": [
      "Digite um dia da semana:  5\n"
     ]
    },
    {
     "name": "stdout",
     "output_type": "stream",
     "text": [
      "É quinta\n"
     ]
    }
   ],
   "source": [
    "dia = int(input('Digite um dia da semana: '))\n",
    "#Classificar em dias da semanaa\n",
    "match dia:\n",
    "  case 1:\n",
    "    print('É domingo')\n",
    "  case 2:\n",
    "    print('É segunda')\n",
    "  case 3:\n",
    "    print('É terça')\n",
    "  case 4:\n",
    "    print('É quarta')\n",
    "  case 5: \n",
    "    print('É quinta')\n",
    "  case 6:\n",
    "    print('É sexta')\n",
    "  case 7: \n",
    "    print('É sábado')\n",
    "  #Caso default ou caso contrário (opcional)\n",
    "  case _:\n",
    "    print(f'O número {dia} não corresponde a nenhum dia da semana')"
   ]
  },
  {
   "cell_type": "markdown",
   "id": "7a4d2572-3ca4-4602-9d8c-f343973eba3f",
   "metadata": {},
   "source": [
    "Usando match…case, leia uma letra correspondente a resposta de uma questão ‘a’ a ‘e’.\n",
    "Depois diga qual resposta foi escolhida\n",
    "Se não for nenhuma destas letras informe que a alternativa não existe\n"
   ]
  },
  {
   "cell_type": "code",
   "execution_count": 29,
   "id": "05c7fba1-948a-438a-baed-f316e600eab7",
   "metadata": {},
   "outputs": [
    {
     "name": "stdin",
     "output_type": "stream",
     "text": [
      "Digite uma letra de 'a' a 'e':  a\n"
     ]
    },
    {
     "name": "stdout",
     "output_type": "stream",
     "text": [
      "Opção selecionada 'a'\n"
     ]
    }
   ],
   "source": [
    "alternativa = input(\"Digite uma letra de 'a' a 'e': \")\n",
    "match alternativa:\n",
    "  case 'a':\n",
    "    print(\"Opção selecionada 'a'\")\n",
    "  case 'b':\n",
    "    print(\"Opção selecionada 'b'\")\n",
    "  case 'c':\n",
    "    print(\"Opção selecionada 'c'\")\n",
    "  case 'd':\n",
    "    print(\"Opção selecionada 'd'\")\n",
    "  case 'e':\n",
    "    print(\"Opção selecionada 'e'\")\n",
    "  case _:\n",
    "    print(f'Opção {alternativa} é inválida')"
   ]
  },
  {
   "cell_type": "code",
   "execution_count": 36,
   "id": "e7c4e181-a09b-41b6-bf2e-acd1a7e58f5b",
   "metadata": {},
   "outputs": [
    {
     "name": "stdin",
     "output_type": "stream",
     "text": [
      "Digite uma letra de 'a' a 'e':  E\n"
     ]
    },
    {
     "name": "stdout",
     "output_type": "stream",
     "text": [
      "Opção E é inválida\n"
     ]
    }
   ],
   "source": [
    "#Mesmo exemplo usando IF\n",
    "#lower() converte uma string para minúsculo e o upper() para maiúsculo\n",
    "alternativa = input(\"Digite uma letra de 'a' a 'e': \").lower()\n",
    "if alternativa=='a':\n",
    "  print(\"Opção selecionada 'a'\")\n",
    "elif alternativa=='b':\n",
    "  print(\"Opção selecionada 'b'\")\n",
    "elif alternativa=='c':\n",
    "  print(\"Opção selecionada 'c'\")\n",
    "elif alternativa=='d':\n",
    "  print(\"Opção selecionada 'd'\")\n",
    "elif alternativa=='e':\n",
    "  print(\"Opção selecionada 'e'\")\n",
    "else:\n",
    "  print(f'Opção {alternativa} é inválida')"
   ]
  },
  {
   "cell_type": "markdown",
   "id": "62101a2c-3183-42f6-90c9-b8f936603f00",
   "metadata": {},
   "source": [
    "# Estruturas de repetição"
   ]
  },
  {
   "cell_type": "code",
   "execution_count": 2,
   "id": "ecb1ca81-e5d5-499d-8442-71770652bfdc",
   "metadata": {},
   "outputs": [
    {
     "name": "stdout",
     "output_type": "stream",
     "text": [
      "0 1 2 3 4 5 6 7 8 9 "
     ]
    }
   ],
   "source": [
    "i = 0\n",
    "#O while é exatamente como no Java\n",
    "while i<10:\n",
    "  print(i,end=' ')\n",
    "  i+=1\n",
    "  #i = i + 1"
   ]
  },
  {
   "cell_type": "markdown",
   "id": "a61e44df-3ed0-44f7-883f-2d99079ccc5c",
   "metadata": {},
   "source": [
    "### Leia um número do teclado e usando while mostre a tabuada dele. Como extra pode validar o número para estar entre 1 e 10"
   ]
  },
  {
   "cell_type": "code",
   "execution_count": 40,
   "id": "caadfe2c-7702-4998-8b79-93deb26ce47a",
   "metadata": {},
   "outputs": [
    {
     "name": "stdin",
     "output_type": "stream",
     "text": [
      "Digite um número entre 1 e 10:  0\n",
      "Eu disse entre 1 e 10:  11\n",
      "Eu disse entre 1 e 10:  6\n"
     ]
    },
    {
     "name": "stdout",
     "output_type": "stream",
     "text": [
      "6 x 1 = 6\n",
      "6 x 2 = 12\n",
      "6 x 3 = 18\n",
      "6 x 4 = 24\n",
      "6 x 5 = 30\n",
      "6 x 6 = 36\n",
      "6 x 7 = 42\n",
      "6 x 8 = 48\n",
      "6 x 9 = 54\n",
      "6 x 10 = 60\n"
     ]
    }
   ],
   "source": [
    "num = int(input('Digite um número entre 1 e 10: '))\n",
    "while num < 1 or num > 10:\n",
    "  num = int(input('Eu disse entre 1 e 10: '))\n",
    "i = 1\n",
    "while i<=10:\n",
    "  mult = num*i\n",
    "  print(f'{num} x {i} = {mult}')\n",
    "  i+=1"
   ]
  },
  {
   "cell_type": "code",
   "execution_count": 4,
   "id": "ff733daa-52c2-4b08-8963-c5764ca7a08f",
   "metadata": {},
   "outputs": [
    {
     "name": "stdout",
     "output_type": "stream",
     "text": [
      "10 9 8 7 6 5 4 3 2 1 0 "
     ]
    }
   ],
   "source": [
    "i = 10\n",
    "while i>=0:\n",
    "    print(f'{i}',end=' ')\n",
    "    i-=1\n",
    "    #i = i-1"
   ]
  },
  {
   "cell_type": "markdown",
   "id": "01d7812b-905a-4893-96c0-3f516e2976d9",
   "metadata": {},
   "source": [
    "# Usando o for do python"
   ]
  },
  {
   "cell_type": "code",
   "execution_count": 7,
   "id": "60f9ce5d-15a2-4e63-9260-93b3c2bf7e51",
   "metadata": {},
   "outputs": [
    {
     "name": "stdout",
     "output_type": "stream",
     "text": [
      "0 1 2 3 4 5 6 7 8 9 10 "
     ]
    }
   ],
   "source": [
    "#O for funciona com o teste sempre menor que o número, como um while i<10\n",
    "for i in range(11):\n",
    "    print(i,end=' ')"
   ]
  },
  {
   "cell_type": "markdown",
   "id": "d77bcacf-f530-4655-b6bd-7397591d7d47",
   "metadata": {},
   "source": [
    "A função range recebe três parâmetros range(valor_inicial, valor_final, passo)\n",
    "\n",
    "valor_inicial for omitido -> assume o valor 0\n",
    "\n",
    "passo não for declarado -> assume 1"
   ]
  },
  {
   "cell_type": "code",
   "execution_count": 16,
   "id": "fe0524e2-e354-4934-a761-b89124149085",
   "metadata": {},
   "outputs": [
    {
     "name": "stdout",
     "output_type": "stream",
     "text": [
      "1 2 3 4 5 6 7 8 9 \n",
      "Um for decrementando\n",
      "10 9 8 7 6 5 4 3 2 1 0 \n",
      "Um for sem passo\n",
      "1 2 3 4 5 6 7 8 9 10 11 12 13 14 15 16 17 18 19 \n",
      "Números pares\n",
      "2 4 6 8 10 12 14 16 18 "
     ]
    }
   ],
   "source": [
    "#for(int i=1; i<10; i++)\n",
    "for i in range(1,10,1):\n",
    "    print(i,end=' ')\n",
    "\n",
    "print('\\nUm for decrementando')\n",
    "#for(int i=10; i>=0; i--)\n",
    "#for(int i=10; i>-1; i--)\n",
    "for i in range(10,-1,-1):\n",
    "    print(i,end=' ')\n",
    "print('\\nUm for sem passo')\n",
    "#for(int i=0; i<20; i++)\n",
    "for i in range(1,20):\n",
    "    print(i,end=' ')\n",
    "print('\\nNúmeros pares')\n",
    "#for(int i=2; i<20; i+=2)\n",
    "for i in range(2,20,2):\n",
    "    print(i,end=' ')"
   ]
  },
  {
   "cell_type": "code",
   "execution_count": 14,
   "id": "f2ed75ec-b8bb-49f7-90a4-cfd479ba10ed",
   "metadata": {},
   "outputs": [
    {
     "name": "stdout",
     "output_type": "stream",
     "text": [
      "'a' 'u' 'l' 'a' ' ' 'd' 'e' ' ' 'p' 'r' 'o' 'g' 'r' 'a' 'm' 'a' 'ç' 'ã' 'o' "
     ]
    }
   ],
   "source": [
    "frase = 'aula de programação'\n",
    "for letra in frase:\n",
    "    print(f\"'{letra}'\", end=' ')"
   ]
  }
 ],
 "metadata": {
  "kernelspec": {
   "display_name": "Python 3 (ipykernel)",
   "language": "python",
   "name": "python3"
  },
  "language_info": {
   "codemirror_mode": {
    "name": "ipython",
    "version": 3
   },
   "file_extension": ".py",
   "mimetype": "text/x-python",
   "name": "python",
   "nbconvert_exporter": "python",
   "pygments_lexer": "ipython3",
   "version": "3.13.7"
  }
 },
 "nbformat": 4,
 "nbformat_minor": 5
}
