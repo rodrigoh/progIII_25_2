{
 "cells": [
  {
   "cell_type": "markdown",
   "id": "0bafc5db-0d65-4aa4-bb94-922dd07a1d03",
   "metadata": {},
   "source": [
    "# Criando uma lista"
   ]
  },
  {
   "cell_type": "code",
   "execution_count": 1,
   "id": "877e3a57-bb2d-4c92-8672-fda87d754c62",
   "metadata": {},
   "outputs": [
    {
     "data": {
      "text/plain": [
       "list"
      ]
     },
     "execution_count": 1,
     "metadata": {},
     "output_type": "execute_result"
    }
   ],
   "source": [
    "l = []\n",
    "type(l)"
   ]
  },
  {
   "cell_type": "code",
   "execution_count": 2,
   "id": "c68bae6c-7755-4cb1-9a66-8ec1d98838aa",
   "metadata": {},
   "outputs": [
    {
     "name": "stdout",
     "output_type": "stream",
     "text": [
      "[1, 2, 3, 4, 5, 6, 7]\n"
     ]
    }
   ],
   "source": [
    "l = [1,2,3,4,5,6,7]\n",
    "print(l)"
   ]
  },
  {
   "cell_type": "code",
   "execution_count": 3,
   "id": "afce4705-8a40-4170-a811-2be6663a55a7",
   "metadata": {},
   "outputs": [
    {
     "data": {
      "text/plain": [
       "int"
      ]
     },
     "execution_count": 3,
     "metadata": {},
     "output_type": "execute_result"
    }
   ],
   "source": [
    "type(l[0])"
   ]
  },
  {
   "cell_type": "code",
   "execution_count": 4,
   "id": "0f49dc8d-7141-4179-b4b7-ef2aa02c962f",
   "metadata": {},
   "outputs": [
    {
     "name": "stdout",
     "output_type": "stream",
     "text": [
      "7\n"
     ]
    }
   ],
   "source": [
    "#Descobrindo o tamanho da lista\n",
    "print(len(l))"
   ]
  },
  {
   "cell_type": "code",
   "execution_count": 6,
   "id": "e2607d47-39d0-4f14-bf62-b05c6ded436c",
   "metadata": {},
   "outputs": [
    {
     "name": "stdout",
     "output_type": "stream",
     "text": [
      "1 2 3 4 5 6 7 "
     ]
    }
   ],
   "source": [
    "i = 0\n",
    "while i < len(l):\n",
    "    print(l[i],end=' ')\n",
    "    i+=1"
   ]
  },
  {
   "cell_type": "code",
   "execution_count": 8,
   "id": "ed6c89c9-3d54-4950-b29e-be2357e01878",
   "metadata": {},
   "outputs": [
    {
     "name": "stdout",
     "output_type": "stream",
     "text": [
      "[1, 2, 3, 4, 5, 6, 7]\n",
      "[1, 2, 3, 4, 5, 6, 7]\n",
      "[1, 2, 100, 4, 5, 6, 7]\n",
      "[1, 2, 100, 4, 5, 6, 7]\n"
     ]
    }
   ],
   "source": [
    "l = [1,2,3,4,5,6,7]\n",
    "j = l\n",
    "print(l)\n",
    "print(j)\n",
    "j[2] = 100\n",
    "print(l)\n",
    "print(j)"
   ]
  },
  {
   "cell_type": "code",
   "execution_count": 9,
   "id": "e6c191d9-198a-4117-83f8-7327c32e7adb",
   "metadata": {},
   "outputs": [
    {
     "name": "stdout",
     "output_type": "stream",
     "text": [
      "[1, 2, 3, 4, 5, 6, 7]\n",
      "[1, 2, 3, 4, 5, 6, 7]\n",
      "[1, 2, 3, 4, 5, 6, 7]\n",
      "[1, 2, 100, 4, 5, 6, 7]\n"
     ]
    }
   ],
   "source": [
    "l = [1,2,3,4,5,6,7]\n",
    "#Realizando uma cópia da lista\n",
    "j = l[:]\n",
    "print(l)\n",
    "print(j)\n",
    "j[2] = 100\n",
    "print(l)\n",
    "print(j)"
   ]
  },
  {
   "cell_type": "code",
   "execution_count": 10,
   "id": "41d8f74e-821b-4a0f-bff0-b8c1a3eb4c2d",
   "metadata": {},
   "outputs": [
    {
     "name": "stdout",
     "output_type": "stream",
     "text": [
      "[1, 2, 3, 4, 5, 6, 7]\n",
      "[3, 4, 5, 6, 7]\n",
      "[1, 2, 3, 4, 5, 6, 7]\n",
      "[3, 4, 100, 6, 7]\n"
     ]
    }
   ],
   "source": [
    "l = [1,2,3,4,5,6,7]\n",
    "#Realizando uma cópia da lista a partir do indice 2 [indice_inicial:indice_final]\n",
    "j = l[2:]\n",
    "print(l)\n",
    "print(j)\n",
    "j[2] = 100\n",
    "print(l)\n",
    "print(j)"
   ]
  },
  {
   "cell_type": "code",
   "execution_count": 11,
   "id": "c7eff699-f761-4079-a383-b152ca520517",
   "metadata": {},
   "outputs": [
    {
     "name": "stdout",
     "output_type": "stream",
     "text": [
      "[1, 2, 3, 4, 5, 6, 7]\n",
      "[1, 2, 3, 4]\n",
      "[1, 2, 3, 4, 5, 6, 7]\n",
      "[1, 2, 100, 4]\n"
     ]
    }
   ],
   "source": [
    "l = [1,2,3,4,5,6,7]\n",
    "#Realizando uma cópia da lista a partir do indice 2 [indice_inicial:indice_final]\n",
    "j = l[:4]\n",
    "print(l)\n",
    "print(j)\n",
    "j[2] = 100\n",
    "print(l)\n",
    "print(j)"
   ]
  },
  {
   "cell_type": "code",
   "execution_count": 17,
   "id": "03758142-9d3c-4a6d-b050-8a9d99d77c3b",
   "metadata": {},
   "outputs": [
    {
     "name": "stdout",
     "output_type": "stream",
     "text": [
      "[1, 2, 3, 4, 5, 6, 7]\n",
      "[3, 4, 5]\n",
      "[1, 2, 3, 4, 5, 6, 7]\n",
      "[3, 4, 100]\n"
     ]
    }
   ],
   "source": [
    "l = [1,2,3,4,5,6,7]\n",
    "#Realizando uma cópia da lista a partir do indice 2 [indice_inicial:indice_final]\n",
    "j = l[2:5]\n",
    "print(l)\n",
    "print(j)\n",
    "j[2] = 100\n",
    "print(l)\n",
    "print(j)"
   ]
  },
  {
   "cell_type": "code",
   "execution_count": 18,
   "id": "4b4ad2b3-8a04-4785-920e-3a8b23c9dc6a",
   "metadata": {},
   "outputs": [
    {
     "name": "stdout",
     "output_type": "stream",
     "text": [
      "1 2 3 4 5 6 7 "
     ]
    }
   ],
   "source": [
    "#O for itera uma lista\n",
    "l = [1,2,3,4,5,6,7]\n",
    "for i in l:\n",
    "    print(i,end=' ')"
   ]
  },
  {
   "cell_type": "code",
   "execution_count": 20,
   "id": "d605917c-fc53-461e-b9cc-a39d48d140d6",
   "metadata": {},
   "outputs": [
    {
     "name": "stdout",
     "output_type": "stream",
     "text": [
      "[1, 2, 3, 4, 5, 6, 7, 55]\n"
     ]
    }
   ],
   "source": [
    "#Adicionar um elemento no final da lista\n",
    "l.append(55)\n",
    "print(l)"
   ]
  },
  {
   "cell_type": "code",
   "execution_count": 21,
   "id": "207a6391-32ea-46d1-83ca-85db1a844a13",
   "metadata": {},
   "outputs": [
    {
     "name": "stdout",
     "output_type": "stream",
     "text": [
      "[1, 2, 3, 4, 5, 6, 7, [10, 12, 15]]\n",
      "[10, 12, 15]\n"
     ]
    }
   ],
   "source": [
    "l = [1,2,3,4,5,6,7]\n",
    "j = [10,12,15]\n",
    "l.append(j)\n",
    "print(l)\n",
    "print(j)"
   ]
  },
  {
   "cell_type": "code",
   "execution_count": 22,
   "id": "018a4a0c-cc86-4cce-9300-09c093d1f34e",
   "metadata": {},
   "outputs": [
    {
     "name": "stdout",
     "output_type": "stream",
     "text": [
      "[1, 2, 3, 4, 5, 6, 7, 10, 12, 15]\n",
      "[10, 12, 15]\n"
     ]
    }
   ],
   "source": [
    "l = [1,2,3,4,5,6,7]\n",
    "j = [10,12,15]\n",
    "l.extend(j)\n",
    "print(l)\n",
    "print(j)"
   ]
  },
  {
   "cell_type": "code",
   "execution_count": 25,
   "id": "3f34b753-9bb5-4ddf-a466-e232d5eb4951",
   "metadata": {},
   "outputs": [
    {
     "name": "stdout",
     "output_type": "stream",
     "text": [
      "['Ana', 'Pedro', 'Jonas', 'Betina']\n"
     ]
    }
   ],
   "source": [
    "nomes = ['Ana', 'Pedro','Jonas','Betina']\n",
    "print(nomes)"
   ]
  },
  {
   "cell_type": "code",
   "execution_count": 28,
   "id": "47636e83-31d5-488b-8fb6-9f10f35791d9",
   "metadata": {},
   "outputs": [
    {
     "name": "stdout",
     "output_type": "stream",
     "text": [
      "[1, 2, 3, 4, 5, 6, 7, 10, 12, 15]\n",
      "[1, 2, 3, 4, 6, 7, 10, 12, 15]\n"
     ]
    }
   ],
   "source": [
    "#Apagando um elemento da lista pela posição\n",
    "l = [1, 2, 3, 4, 5, 6, 7, 10, 12, 15]\n",
    "print(l)\n",
    "del l[4]\n",
    "print(l)"
   ]
  },
  {
   "cell_type": "code",
   "execution_count": 38,
   "id": "9f239eb8-25ab-4c01-9827-623d46dc9939",
   "metadata": {},
   "outputs": [
    {
     "name": "stdout",
     "output_type": "stream",
     "text": [
      "[1, 2, 3, 4, 5, 6, 7, 10, 12, 15]\n",
      "[1, 2, 3, 4, 10, 12, 15]\n"
     ]
    }
   ],
   "source": [
    "#Apagando um elemento da lista pela posição\n",
    "l = [1, 2, 3, 4, 5, 6, 7, 10, 12, 15]\n",
    "print(l)\n",
    "#Remove os elementos das posições 4,5 e 6\n",
    "del l[4:7]\n",
    "print(l)"
   ]
  },
  {
   "cell_type": "code",
   "execution_count": 40,
   "id": "b60587ce-1cdf-4a74-b471-2d3ead51b6c3",
   "metadata": {},
   "outputs": [
    {
     "name": "stdout",
     "output_type": "stream",
     "text": [
      "[1, 2, 3, 4, 5, 6, 7, 10, 12, 15, 5]\n",
      "[1, 2, 3, 4, 6, 7, 10, 12, 15, 5]\n"
     ]
    }
   ],
   "source": [
    "#Apagando um elemento da lista pelo elemento\n",
    "l = [1, 2, 3, 4, 5, 6, 7, 10, 12, 15, 5]\n",
    "print(l)\n",
    "l.remove(5)\n",
    "print(l)"
   ]
  },
  {
   "cell_type": "code",
   "execution_count": 44,
   "id": "4b7be924-1ccf-4339-975d-00977d7f934f",
   "metadata": {},
   "outputs": [
    {
     "name": "stdout",
     "output_type": "stream",
     "text": [
      "['a', 'c', 'd', 'f']\n",
      "['a', 'b', 'c', 'd', 'f']\n"
     ]
    }
   ],
   "source": [
    "#Adicionar um elemento em qualquer posição da lista\n",
    "l = ['a','c','d','f']\n",
    "print(l)\n",
    "#.isert(posição,novo_elemento)\n",
    "l.insert(1,'b')\n",
    "print(l)"
   ]
  },
  {
   "cell_type": "code",
   "execution_count": 45,
   "id": "c70e9261-49da-4a5e-a9b6-eff918149891",
   "metadata": {},
   "outputs": [
    {
     "name": "stdout",
     "output_type": "stream",
     "text": [
      "[6, 8, 12, 2, 3, 4, 15, 0]\n",
      "[0, 2, 3, 4, 6, 8, 12, 15]\n"
     ]
    }
   ],
   "source": [
    "#Ordenar uma lista\n",
    "lista = [6,8,12,2,3,4,15,0]\n",
    "print(lista)\n",
    "lista.sort()\n",
    "print(lista)"
   ]
  },
  {
   "cell_type": "code",
   "execution_count": 46,
   "id": "155c1342-3b55-46fd-839f-30d8ebcbc94f",
   "metadata": {},
   "outputs": [
    {
     "name": "stdout",
     "output_type": "stream",
     "text": [
      "[6, 8, 12, 2, 3, 4, 15, 0]\n",
      "[15, 12, 8, 6, 4, 3, 2, 0]\n"
     ]
    }
   ],
   "source": [
    "#Ordenar uma lista\n",
    "lista = [6,8,12,2,3,4,15,0]\n",
    "print(lista)\n",
    "lista.sort(reverse=True)\n",
    "print(lista)"
   ]
  },
  {
   "cell_type": "code",
   "execution_count": 48,
   "id": "edb4d069-8f94-42ae-a355-f36a8d43b108",
   "metadata": {},
   "outputs": [
    {
     "name": "stdout",
     "output_type": "stream",
     "text": [
      "['0', '1', '10', '4', '6', 'a', 'b', 'j', 't']\n"
     ]
    }
   ],
   "source": [
    "lista = ['4','t','6','j','10','a','0','1','b']\n",
    "lista.sort()\n",
    "print(lista)"
   ]
  },
  {
   "cell_type": "code",
   "execution_count": 49,
   "id": "925c51dc-2f5a-4e55-b8c3-77b3770c4b7b",
   "metadata": {},
   "outputs": [
    {
     "name": "stdout",
     "output_type": "stream",
     "text": [
      "[6, 8, 12, 2, 3, 4, 15, 0]\n",
      "[0, 15, 4, 3, 2, 12, 8, 6]\n"
     ]
    }
   ],
   "source": [
    "#Ordenar uma lista\n",
    "lista = [6,8,12,2,3,4,15,0]\n",
    "print(lista)\n",
    "lista.reverse()\n",
    "print(lista)"
   ]
  },
  {
   "cell_type": "code",
   "execution_count": 51,
   "id": "a14cf902-935a-436a-9390-9c6a628472f9",
   "metadata": {},
   "outputs": [
    {
     "name": "stdout",
     "output_type": "stream",
     "text": [
      "['t', 'e', 's', 't', 'e']\n"
     ]
    }
   ],
   "source": [
    "#A função list converte uma string em uma lista\n",
    "palavra = 'teste'\n",
    "lista = list(palavra)\n",
    "print(lista)"
   ]
  },
  {
   "cell_type": "code",
   "execution_count": 54,
   "id": "f430643a-9cec-4ad6-99f3-59f154073f06",
   "metadata": {},
   "outputs": [
    {
     "name": "stdout",
     "output_type": "stream",
     "text": [
      "[1, 2, 3, 4, 4, 5, 6, 5, 4, 7, 5]\n",
      "Quantos 5s tem na lista 3\n",
      "Quantos 10 tem na lista 0\n",
      "Quantos 4s tem na lista 3\n",
      "Quantos 1s tem na lista 1\n"
     ]
    }
   ],
   "source": [
    "#Contar quantos valores tem na lista\n",
    "lista = [1,2,3,4,4,5,6,5,4,7,5]\n",
    "print(lista)\n",
    "print(f'Quantos 5s tem na lista {lista.count(5)}')\n",
    "print(f'Quantos 10 tem na lista {lista.count(10)}')\n",
    "print(f'Quantos 4s tem na lista {lista.count(4)}')\n",
    "print(f'Quantos 1s tem na lista {lista.count(1)}')"
   ]
  },
  {
   "cell_type": "code",
   "execution_count": 56,
   "id": "e2f86e88-0146-4ac1-87be-b591d66eb87f",
   "metadata": {},
   "outputs": [
    {
     "name": "stdout",
     "output_type": "stream",
     "text": [
      "[1, 2, 3, 4, 4, 6, 4, 7]\n"
     ]
    }
   ],
   "source": [
    "#removendo os vários elementos repetidos da lista\n",
    "lista = [1,2,3,4,4,5,6,5,4,7,5]\n",
    "while lista.count(5)>0:\n",
    "    lista.remove(5)\n",
    "print(lista)"
   ]
  },
  {
   "cell_type": "code",
   "execution_count": 59,
   "id": "cc81264b-74ca-40b4-b20b-3dfe71bdfa5c",
   "metadata": {},
   "outputs": [
    {
     "name": "stdout",
     "output_type": "stream",
     "text": [
      "Posição do elemento 4 na lista 3\n"
     ]
    }
   ],
   "source": [
    "#Descobrindo a posição de um elemento em uma lista\n",
    "lista = [1,2,3,4,4,5,6,5,4,7,5]\n",
    "print(f'Posição do elemento 4 na lista {lista.index(4)}')"
   ]
  },
  {
   "cell_type": "code",
   "execution_count": 62,
   "id": "1f0e62ff-7ead-46a1-998f-4c2af7702f04",
   "metadata": {},
   "outputs": [
    {
     "data": {
      "text/plain": [
       "[49, 4, 97, 39, 79, 96, 77, 39, 47, 37, 13, 79, 10, 58, 35, 43, 78, 40, 21, 12]"
      ]
     },
     "execution_count": 62,
     "metadata": {},
     "output_type": "execute_result"
    }
   ],
   "source": [
    "#Gerando uma lista de números aleatórios\n",
    "import random\n",
    "lista = [random.randint(1,100) for i in range(20)]\n",
    "lista"
   ]
  },
  {
   "cell_type": "code",
   "execution_count": 63,
   "id": "a18c3f39-b1e9-4fe1-8b3b-6af8d34585de",
   "metadata": {},
   "outputs": [
    {
     "data": {
      "text/plain": [
       "[31, 20, 50, 9, 41, 74, 100, 82, 32, 75, 53, 27, 33, 26, 28, 42, 34, 50, 25, 1]"
      ]
     },
     "execution_count": 63,
     "metadata": {},
     "output_type": "execute_result"
    }
   ],
   "source": [
    "l = []\n",
    "for i in range(20):\n",
    "    l.append(random.randint(1,100))\n",
    "l"
   ]
  },
  {
   "cell_type": "code",
   "execution_count": 64,
   "id": "2e17dd13-7b87-4314-a46c-c456f19c848d",
   "metadata": {},
   "outputs": [
    {
     "name": "stdout",
     "output_type": "stream",
     "text": [
      "[]\n"
     ]
    }
   ],
   "source": [
    "l.clear()\n",
    "print(l)"
   ]
  },
  {
   "cell_type": "markdown",
   "id": "b31e8632-d3df-499d-bd36-f70ec573f15d",
   "metadata": {},
   "source": [
    "# Tuplas"
   ]
  },
  {
   "cell_type": "code",
   "execution_count": 69,
   "id": "c4d0ccde-5310-4b6b-ae04-a280d0dcbf99",
   "metadata": {},
   "outputs": [
    {
     "name": "stdout",
     "output_type": "stream",
     "text": [
      "(1, 2, 3)\n",
      "(4, 5, 6)\n",
      "(1, 'Jonas', 5.8, True)\n"
     ]
    }
   ],
   "source": [
    "t = (1,2,3)\n",
    "u = (4,5,6)\n",
    "print(t)\n",
    "print(u)\n",
    "t = (1,'Jonas',5.8,True)\n",
    "print(t)"
   ]
  },
  {
   "cell_type": "code",
   "execution_count": 70,
   "id": "e0725d91-1dcb-4430-8f88-a93127f700a3",
   "metadata": {},
   "outputs": [
    {
     "name": "stdout",
     "output_type": "stream",
     "text": [
      "5\n",
      "6\n"
     ]
    }
   ],
   "source": [
    "coord = (5,6)\n",
    "x,y = coord\n",
    "print(x)\n",
    "print(y)"
   ]
  },
  {
   "cell_type": "code",
   "execution_count": 72,
   "id": "57baa6db-a519-482f-9bbb-65f141c51989",
   "metadata": {},
   "outputs": [
    {
     "data": {
      "text/plain": [
       "tuple"
      ]
     },
     "execution_count": 72,
     "metadata": {},
     "output_type": "execute_result"
    }
   ],
   "source": [
    "t = (37,)\n",
    "type(t)"
   ]
  },
  {
   "cell_type": "code",
   "execution_count": 73,
   "id": "9afce3f6-dea0-49fd-b92f-90bb7f6d97ea",
   "metadata": {},
   "outputs": [
    {
     "name": "stdout",
     "output_type": "stream",
     "text": [
      "1\n",
      "3\n"
     ]
    }
   ],
   "source": [
    "t = (1,2,3)\n",
    "u = (4,5,6)\n",
    "print(t[0])\n",
    "print(t[-1])"
   ]
  },
  {
   "cell_type": "code",
   "execution_count": 75,
   "id": "b8f93653-08a1-445b-a5ae-1b5591eb77c3",
   "metadata": {},
   "outputs": [
    {
     "name": "stdout",
     "output_type": "stream",
     "text": [
      "(1, 2, 3, 4, 5, 6)\n",
      "(1, 2, 3, 1, 2, 3, 1, 2, 3, 1, 2, 3)\n"
     ]
    }
   ],
   "source": [
    "t1 = (1,2,3)\n",
    "t2 = (4,5,6)\n",
    "t3 = t1 + t2\n",
    "print(t3)\n",
    "t4 = t1*4\n",
    "print(t4)\n"
   ]
  },
  {
   "cell_type": "code",
   "execution_count": 88,
   "id": "eaad6418-228f-4f8b-acb2-30f32a73ec06",
   "metadata": {},
   "outputs": [
    {
     "name": "stdout",
     "output_type": "stream",
     "text": [
      "{'nome': 'Jonas', 'idade': 18, 'curso': 'informática', 'notas': [8, 9, 6]}\n"
     ]
    }
   ],
   "source": [
    "# Dicionário\n",
    "aluno = {\n",
    "    'nome':'Jonas',\n",
    "    'idade':18,\n",
    "    'curso':'informática',\n",
    "    'notas':[8,9,6]\n",
    "}\n",
    "print(aluno)\n",
    "dicionario = {}"
   ]
  },
  {
   "cell_type": "code",
   "execution_count": 89,
   "id": "0488db84-94c1-4dfb-b528-8369d1723ef3",
   "metadata": {},
   "outputs": [
    {
     "name": "stdout",
     "output_type": "stream",
     "text": [
      "Nome: Jonas\n",
      "Notas: [8, 9, 6]\n",
      "Primeira nota: 8\n",
      "Idade: 18\n"
     ]
    }
   ],
   "source": [
    "print('Nome:',aluno['nome'])\n",
    "print('Notas:',aluno['notas'])\n",
    "print('Primeira nota:',aluno['notas'][0])\n",
    "print('Idade:',aluno['idade'])"
   ]
  },
  {
   "cell_type": "code",
   "execution_count": 90,
   "id": "b00d586e-affe-42e2-a050-79a74e8ed11b",
   "metadata": {},
   "outputs": [
    {
     "name": "stdout",
     "output_type": "stream",
     "text": [
      "{'nome': 'Jonas Silva', 'idade': 18, 'curso': 'informática', 'notas': [8, 9, 6], 'matricula': 'a123'}\n"
     ]
    }
   ],
   "source": [
    "aluno['nome'] = 'Jonas Silva'\n",
    "aluno['matricula'] = 'a123'\n",
    "print(aluno)"
   ]
  },
  {
   "cell_type": "code",
   "execution_count": 83,
   "id": "b3e90145-7afa-4349-b097-688e07d24aa4",
   "metadata": {},
   "outputs": [
    {
     "ename": "KeyError",
     "evalue": "'sobrenome'",
     "output_type": "error",
     "traceback": [
      "\u001b[31m---------------------------------------------------------------------------\u001b[39m",
      "\u001b[31mKeyError\u001b[39m                                  Traceback (most recent call last)",
      "\u001b[36mCell\u001b[39m\u001b[36m \u001b[39m\u001b[32mIn[83]\u001b[39m\u001b[32m, line 1\u001b[39m\n\u001b[32m----> \u001b[39m\u001b[32m1\u001b[39m \u001b[38;5;28mprint\u001b[39m(\u001b[33m'\u001b[39m\u001b[33mSobrenome: \u001b[39m\u001b[33m'\u001b[39m,\u001b[43maluno\u001b[49m\u001b[43m[\u001b[49m\u001b[33;43m'\u001b[39;49m\u001b[33;43msobrenome\u001b[39;49m\u001b[33;43m'\u001b[39;49m\u001b[43m]\u001b[49m)\n",
      "\u001b[31mKeyError\u001b[39m: 'sobrenome'"
     ]
    }
   ],
   "source": [
    "print('Sobrenome: ',aluno['sobrenome'])"
   ]
  },
  {
   "cell_type": "code",
   "execution_count": 91,
   "id": "0856381f-2a85-4188-9279-0797699d8690",
   "metadata": {},
   "outputs": [
    {
     "name": "stdout",
     "output_type": "stream",
     "text": [
      "Nome: Jonas Silva\n",
      "Sobrenome: Chave sobrenome, não encontrada\n"
     ]
    }
   ],
   "source": [
    "#.get(chave,mensagem_erro)\n",
    "print('Nome:',aluno.get('nome','Chave nome, não encontrada'))\n",
    "print('Sobrenome:',aluno.get('sobrenome','Chave sobrenome, não encontrada'))"
   ]
  },
  {
   "cell_type": "code",
   "execution_count": 92,
   "id": "6b22eb45-5384-4361-8227-7c3556e5eac5",
   "metadata": {},
   "outputs": [
    {
     "name": "stdout",
     "output_type": "stream",
     "text": [
      "Apagando a chave matricula a123\n",
      "{'nome': 'Jonas Silva', 'idade': 18, 'curso': 'informática', 'notas': [8, 9, 6]}\n",
      "{'nome': 'Jonas Silva', 'idade': 18, 'notas': [8, 9, 6]}\n"
     ]
    }
   ],
   "source": [
    "#Apagando uma chave\n",
    "#Usando o pop(chave) ele remove e devolve o valor\n",
    "print('Apagando a chave matricula',aluno.pop('matricula'))\n",
    "print(aluno)\n",
    "#Usando o del dicionario[chave] ele só remove\n",
    "del aluno['curso']\n",
    "print(aluno)\n"
   ]
  },
  {
   "cell_type": "code",
   "execution_count": 94,
   "id": "6db1349c-0f82-4926-a64b-1e7d8192748a",
   "metadata": {},
   "outputs": [
    {
     "name": "stdout",
     "output_type": "stream",
     "text": [
      "nome idade notas "
     ]
    }
   ],
   "source": [
    "#Iterando as chaves\n",
    "for chave in aluno:\n",
    "    print(chave,end=' ')"
   ]
  },
  {
   "cell_type": "code",
   "execution_count": 96,
   "id": "24b574f4-a581-4df1-a3c8-b632285c47ee",
   "metadata": {},
   "outputs": [
    {
     "name": "stdout",
     "output_type": "stream",
     "text": [
      "Jonas Silva 18 [8, 9, 6] "
     ]
    }
   ],
   "source": [
    "#Iterando os valores\n",
    "for valor in aluno.values():\n",
    "    print(valor,end=' ')"
   ]
  },
  {
   "cell_type": "code",
   "execution_count": 99,
   "id": "663b08c7-1b7e-492d-bea7-74b4328ce0b5",
   "metadata": {},
   "outputs": [
    {
     "name": "stdout",
     "output_type": "stream",
     "text": [
      "nome : Jonas Silva\n",
      "idade : 18\n",
      "notas : [8, 9, 6]\n"
     ]
    }
   ],
   "source": [
    "#Iterar os valores e as chaves\n",
    "for chave, valor in aluno.items():\n",
    "    print(f'{chave} : {valor}')"
   ]
  },
  {
   "cell_type": "code",
   "execution_count": 100,
   "id": "72a955e1-6181-43a4-b327-005167c61ead",
   "metadata": {},
   "outputs": [
    {
     "name": "stdout",
     "output_type": "stream",
     "text": [
      "{'nome': 'Jonas Silva', 'idade': 21, 'notas': [8, 9, 6], 'escola': 'cimol'}\n"
     ]
    }
   ],
   "source": [
    "aluno.update({'escola':'cimol','idade':21})\n",
    "print(aluno)"
   ]
  }
 ],
 "metadata": {
  "kernelspec": {
   "display_name": "Python 3 (ipykernel)",
   "language": "python",
   "name": "python3"
  },
  "language_info": {
   "codemirror_mode": {
    "name": "ipython",
    "version": 3
   },
   "file_extension": ".py",
   "mimetype": "text/x-python",
   "name": "python",
   "nbconvert_exporter": "python",
   "pygments_lexer": "ipython3",
   "version": "3.13.7"
  }
 },
 "nbformat": 4,
 "nbformat_minor": 5
}
