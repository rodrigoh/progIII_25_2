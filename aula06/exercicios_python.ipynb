{
 "cells": [
  {
   "cell_type": "markdown",
   "id": "b057f335",
   "metadata": {},
   "source": [
    "# Exercício 1: Peça ao usuário um número e diga se ele é par ou ímpar."
   ]
  },
  {
   "cell_type": "code",
   "execution_count": null,
   "id": "e1fd0c38",
   "metadata": {},
   "outputs": [],
   "source": []
  },
  {
   "cell_type": "markdown",
   "id": "0f51e595",
   "metadata": {},
   "source": [
    "# Exercício 2: Leia a idade de uma pessoa e informe se ela é menor de idade, adulta ou idosa (>= 60)."
   ]
  },
  {
   "cell_type": "code",
   "execution_count": null,
   "id": "b8bff903",
   "metadata": {},
   "outputs": [],
   "source": []
  },
  {
   "cell_type": "markdown",
   "id": "d14c3125",
   "metadata": {},
   "source": [
    "# Exercício 3: Peça duas notas e calcule a média. Diga se o aluno está aprovado (média >= 7)."
   ]
  },
  {
   "cell_type": "code",
   "execution_count": null,
   "id": "9a1481a7",
   "metadata": {},
   "outputs": [],
   "source": []
  },
  {
   "cell_type": "markdown",
   "id": "fbd11a3d",
   "metadata": {},
   "source": [
    "# Exercício 4: Solicite o nome de uma pessoa e diga se ele começa com a letra 'A'."
   ]
  },
  {
   "cell_type": "code",
   "execution_count": null,
   "id": "4472f0d7",
   "metadata": {},
   "outputs": [],
   "source": []
  },
  {
   "cell_type": "markdown",
   "id": "9a6ecffb",
   "metadata": {},
   "source": [
    "# Exercício 5: Peça um número inteiro e verifique se ele é positivo, negativo ou zero."
   ]
  },
  {
   "cell_type": "code",
   "execution_count": null,
   "id": "78453c72",
   "metadata": {},
   "outputs": [],
   "source": []
  },
  {
   "cell_type": "markdown",
   "id": "ed41b4ca",
   "metadata": {},
   "source": [
    "# Exercício 6: Imprima os números de 1 a 10 com for."
   ]
  },
  {
   "cell_type": "code",
   "execution_count": null,
   "id": "efb34a6c",
   "metadata": {},
   "outputs": [],
   "source": []
  },
  {
   "cell_type": "markdown",
   "id": "83163c5e",
   "metadata": {},
   "source": [
    "# Exercício 7: Imprima os números de 10 a 1 com while."
   ]
  },
  {
   "cell_type": "code",
   "execution_count": null,
   "id": "28c47327",
   "metadata": {},
   "outputs": [],
   "source": []
  },
  {
   "cell_type": "markdown",
   "id": "408ae015",
   "metadata": {},
   "source": [
    "# Exercício 8: Calcule a soma dos números de 1 a 100."
   ]
  },
  {
   "cell_type": "code",
   "execution_count": null,
   "id": "b6835c14",
   "metadata": {},
   "outputs": [],
   "source": []
  },
  {
   "cell_type": "markdown",
   "id": "ec740a27",
   "metadata": {},
   "source": [
    "# Exercício 9: Peça 5 números ao usuário e diga qual é o maior."
   ]
  },
  {
   "cell_type": "code",
   "execution_count": null,
   "id": "c4e65c0a",
   "metadata": {},
   "outputs": [],
   "source": []
  },
  {
   "cell_type": "markdown",
   "id": "3916a505",
   "metadata": {},
   "source": [
    "# Exercício 10: Peça números ao usuário até que ele digite 0, e então exiba a média dos valores digitados."
   ]
  },
  {
   "cell_type": "code",
   "execution_count": null,
   "id": "a7c8729f",
   "metadata": {},
   "outputs": [],
   "source": []
  },
  {
   "cell_type": "markdown",
   "id": "5178e752",
   "metadata": {},
   "source": [
    "# Exercício 11: Crie uma lista com 5 números digitados pelo usuário e imprima a lista."
   ]
  },
  {
   "cell_type": "code",
   "execution_count": null,
   "id": "5f40ed1a",
   "metadata": {},
   "outputs": [],
   "source": []
  },
  {
   "cell_type": "markdown",
   "id": "0983311d",
   "metadata": {},
   "source": [
    "# Exercício 12: Some todos os elementos de uma lista."
   ]
  },
  {
   "cell_type": "code",
   "execution_count": null,
   "id": "5f5d23a3",
   "metadata": {},
   "outputs": [],
   "source": []
  },
  {
   "cell_type": "markdown",
   "id": "84c598b8",
   "metadata": {},
   "source": [
    "# Exercício 13: Encontre o maior e o menor valor de uma lista."
   ]
  },
  {
   "cell_type": "code",
   "execution_count": null,
   "id": "ceb0f310",
   "metadata": {},
   "outputs": [],
   "source": []
  },
  {
   "cell_type": "markdown",
   "id": "b3401528",
   "metadata": {},
   "source": [
    "# Exercício 14: Conte quantos números pares existem em uma lista."
   ]
  },
  {
   "cell_type": "code",
   "execution_count": null,
   "id": "1b87a5ce",
   "metadata": {},
   "outputs": [],
   "source": []
  },
  {
   "cell_type": "markdown",
   "id": "f5ff5c1b",
   "metadata": {},
   "source": [
    "# Exercício 15: Peça uma lista de nomes e diga quantos começam com a letra 'M'."
   ]
  },
  {
   "cell_type": "code",
   "execution_count": null,
   "id": "76400be8",
   "metadata": {},
   "outputs": [],
   "source": []
  },
  {
   "cell_type": "markdown",
   "id": "72d0dc42",
   "metadata": {},
   "source": [
    "# Desafio 1: Peça ao usuário uma quantidade de alunos e, para cada um, o nome e duas notas. Armazene em listas e exiba a média de cada aluno."
   ]
  },
  {
   "cell_type": "code",
   "execution_count": null,
   "id": "c7ac75b2",
   "metadata": {},
   "outputs": [],
   "source": []
  },
  {
   "cell_type": "markdown",
   "id": "27300b0d",
   "metadata": {},
   "source": [
    "# Desafio 2: Gere uma lista com os números de 1 a 20, mas apenas os múltiplos de 3."
   ]
  },
  {
   "cell_type": "code",
   "execution_count": null,
   "id": "30371484",
   "metadata": {},
   "outputs": [],
   "source": []
  },
  {
   "cell_type": "markdown",
   "id": "1505ef2a",
   "metadata": {},
   "source": [
    "# Desafio 3: Peça ao usuário 10 números e exiba quais são primos."
   ]
  },
  {
   "cell_type": "code",
   "execution_count": null,
   "id": "58dcb059",
   "metadata": {},
   "outputs": [],
   "source": []
  },
  {
   "cell_type": "markdown",
   "id": "d1f38556",
   "metadata": {},
   "source": [
    "# Desafio 4: Dada uma lista de números, crie uma nova lista apenas com os valores únicos (sem repetições)."
   ]
  },
  {
   "cell_type": "code",
   "execution_count": null,
   "id": "1babc947",
   "metadata": {},
   "outputs": [],
   "source": []
  },
  {
   "cell_type": "markdown",
   "id": "9e3f4031",
   "metadata": {},
   "source": [
    "# Desafio 5: Crie um programa que simula um menu de opções (ex: cadastrar item, listar itens, sair), usando while e if."
   ]
  },
  {
   "cell_type": "code",
   "execution_count": null,
   "id": "6098900f",
   "metadata": {},
   "outputs": [],
   "source": []
  }
 ],
 "metadata": {
  "kernelspec": {
   "display_name": "Python 3 (ipykernel)",
   "language": "python",
   "name": "python3"
  },
  "language_info": {
   "codemirror_mode": {
    "name": "ipython",
    "version": 3
   },
   "file_extension": ".py",
   "mimetype": "text/x-python",
   "name": "python",
   "nbconvert_exporter": "python",
   "pygments_lexer": "ipython3",
   "version": "3.13.7"
  }
 },
 "nbformat": 4,
 "nbformat_minor": 5
}
