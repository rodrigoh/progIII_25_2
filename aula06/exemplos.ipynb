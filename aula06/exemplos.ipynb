{
 "cells": [
  {
   "cell_type": "markdown",
   "id": "a6b94674-cfef-4405-99eb-7c1170584761",
   "metadata": {},
   "source": [
    "# Tratamento de exceções"
   ]
  },
  {
   "cell_type": "code",
   "execution_count": 9,
   "id": "969147b0-ed32-4b1f-af67-eb4576548403",
   "metadata": {},
   "outputs": [
    {
     "name": "stdout",
     "output_type": "stream",
     "text": [
      "Não é possível dividir por zero\n",
      "Sempre é executada..\n",
      "E vida que segue\n"
     ]
    }
   ],
   "source": [
    "try:\n",
    "    a = 10\n",
    "    b = 0\n",
    "    c = a/b\n",
    "    print(c)\n",
    "except ZeroDivisionError:\n",
    "    print('Não é possível dividir por zero')\n",
    "else:#só será executado caso não ocorra erro (senão do except)\n",
    "    print('Tudo correu bem!')\n",
    "finally:\n",
    "    print('Sempre é executada..')\n",
    "print(\"E vida que segue\")"
   ]
  },
  {
   "cell_type": "code",
   "execution_count": 12,
   "id": "e0f28ef1-d819-4de9-9707-f32b887d1bd2",
   "metadata": {},
   "outputs": [
    {
     "name": "stdin",
     "output_type": "stream",
     "text": [
      "Digite um número:  a\n"
     ]
    },
    {
     "name": "stdout",
     "output_type": "stream",
     "text": [
      "Ops! algo deu errado: invalid literal for int() with base 10: 'a'\n"
     ]
    }
   ],
   "source": [
    "try:\n",
    "    n1 = int(input('Digite um número: '))\n",
    "    n2 = int(input('Digite outro número: '))\n",
    "    resp = n1/n2\n",
    "    print(resp)\n",
    "except ZeroDivisionError:\n",
    "    print('Não é possível dividir por zero')\n",
    "except Exception as erro:\n",
    "    print(f'Ops! algo deu errado: {erro}')\n",
    "    "
   ]
  },
  {
   "cell_type": "code",
   "execution_count": 15,
   "id": "9a0621c9-046d-4f0f-8edb-c547e61f6f01",
   "metadata": {},
   "outputs": [
    {
     "name": "stdout",
     "output_type": "stream",
     "text": [
      "Não pode dividir por zero\n"
     ]
    }
   ],
   "source": [
    "#É possível lançar exceções\n",
    "def divide(n1, n2):\n",
    "    if n2==0:\n",
    "        raise ZeroDivisionError('Não pode dividir por zero')\n",
    "    return n1/n2\n",
    "\n",
    "#Código principal\n",
    "try:\n",
    "    print(divide(10,0))\n",
    "except Exception as e:\n",
    "    print(e)"
   ]
  },
  {
   "cell_type": "code",
   "execution_count": 19,
   "id": "3dee5f6b-bb29-4ef0-9ddc-82e8b3dfe81f",
   "metadata": {},
   "outputs": [
    {
     "name": "stdout",
     "output_type": "stream",
     "text": [
      "O valor de a é 10\n"
     ]
    }
   ],
   "source": [
    "a = 10\n",
    "assert a>0, 'Parece que o valor de a é inválido'\n",
    "print(f'O valor de a é {a}')"
   ]
  },
  {
   "cell_type": "markdown",
   "id": "de143b9c-1e6f-4fdd-8345-7fb22fc92a09",
   "metadata": {},
   "source": [
    "# Funções"
   ]
  },
  {
   "cell_type": "code",
   "execution_count": 60,
   "id": "ef4d18e8-4b9a-4477-95db-49a3178a8f85",
   "metadata": {},
   "outputs": [],
   "source": [
    "def soma(n1, n2):\n",
    "    '''Função capaz de somar dois números'''\n",
    "    return n1+n2"
   ]
  },
  {
   "cell_type": "code",
   "execution_count": 65,
   "id": "1d636a41-e95e-4e4a-a9aa-0fffef6c8187",
   "metadata": {},
   "outputs": [
    {
     "name": "stdout",
     "output_type": "stream",
     "text": [
      "15\n",
      "Função capaz de somar dois números\n"
     ]
    }
   ],
   "source": [
    "a = 5\n",
    "b = 10\n",
    "c = soma(a,b)\n",
    "print(c)\n",
    "print(soma.__doc__)"
   ]
  },
  {
   "cell_type": "code",
   "execution_count": 23,
   "id": "d1edfb75-511e-4c3c-9a02-d1c5f700f046",
   "metadata": {},
   "outputs": [],
   "source": [
    "def saudacao(nome='Visitante'):\n",
    "    print(f\"Olá {nome}\")"
   ]
  },
  {
   "cell_type": "code",
   "execution_count": 24,
   "id": "5bd34489-e3c4-4258-acb7-7fadc58ce5e4",
   "metadata": {},
   "outputs": [
    {
     "name": "stdout",
     "output_type": "stream",
     "text": [
      "Olá Jonas\n"
     ]
    }
   ],
   "source": [
    "saudacao('Jonas')"
   ]
  },
  {
   "cell_type": "code",
   "execution_count": 25,
   "id": "8d254758-3158-43c5-8b80-659ab887961e",
   "metadata": {},
   "outputs": [
    {
     "name": "stdout",
     "output_type": "stream",
     "text": [
      "Olá Visitante\n"
     ]
    }
   ],
   "source": [
    "saudacao()"
   ]
  },
  {
   "cell_type": "code",
   "execution_count": 27,
   "id": "2b9d6a96-9dbc-455e-9808-15c64c92aa90",
   "metadata": {},
   "outputs": [
    {
     "name": "stdout",
     "output_type": "stream",
     "text": [
      "Olá Jonas\n",
      "Olá Visitante\n"
     ]
    }
   ],
   "source": [
    "def saudacao(nome='Visitante'):\n",
    "    print(f\"Olá {nome}\")\n",
    "\n",
    "\n",
    "saudacao('Jonas')\n",
    "#Como definimos um valor padrão para o parâmetro nome, ao chamar omitindo o valor dele, será o padrão\n",
    "saudacao()"
   ]
  },
  {
   "cell_type": "code",
   "execution_count": 30,
   "id": "b3f7c650-2758-4a63-9ae7-ab626396d46d",
   "metadata": {},
   "outputs": [
    {
     "name": "stdout",
     "output_type": "stream",
     "text": [
      "26.235\n",
      "26.235\n"
     ]
    }
   ],
   "source": [
    "#Alterando a ordem dos parâmetros\n",
    "def calcula_imc(peso, altura):\n",
    "    return peso/altura**2\n",
    "\n",
    "imc = calcula_imc(altura=1.8, peso=85)\n",
    "print(f'{imc:.3f}')\n",
    "imc = calcula_imc(85,1.8)\n",
    "print(f'{imc:.3f}')"
   ]
  },
  {
   "cell_type": "code",
   "execution_count": 33,
   "id": "05bded07-a8e1-4d4d-a339-a52c0afe24fa",
   "metadata": {},
   "outputs": [
    {
     "name": "stdin",
     "output_type": "stream",
     "text": [
      "Qual sua altura:  1.8\n",
      "Qual seu peso:  100\n"
     ]
    },
    {
     "name": "stdout",
     "output_type": "stream",
     "text": [
      "30.864\n"
     ]
    }
   ],
   "source": [
    "altura = float(input('Qual sua altura: '))\n",
    "peso = float(input('Qual seu peso: '))\n",
    "imc = calcula_imc(altura=altura, peso=peso)\n",
    "#imc = calcula_imc(peso, altura)\n",
    "print(f'{imc:.3f}')"
   ]
  },
  {
   "cell_type": "code",
   "execution_count": null,
   "id": "458c9186-060d-498a-8310-91af84815d56",
   "metadata": {},
   "outputs": [],
   "source": [
    "#Alterando a ordem dos parâmetros\n",
    "def calcula_imc(nome, peso, altura):\n",
    "    nome = nome.capitalize()\n",
    "    imc = peso/altura**2\n",
    "    return nome, imc"
   ]
  },
  {
   "cell_type": "code",
   "execution_count": 42,
   "id": "25b6922b-ae45-47ea-9534-bd5f8e07f5a9",
   "metadata": {},
   "outputs": [],
   "source": [
    "#Alterando a ordem dos parâmetros\n",
    "def calcula_imc(nome, peso, altura):\n",
    "    return nome.capitalize(), peso/altura**2"
   ]
  },
  {
   "cell_type": "code",
   "execution_count": 43,
   "id": "0c129f95-9954-40aa-9a0e-05940d4d5255",
   "metadata": {},
   "outputs": [
    {
     "name": "stdin",
     "output_type": "stream",
     "text": [
      "Qual seu nome:  Jonas\n",
      "Qual sua altura:  1.8\n",
      "Qual seu peso:  100\n"
     ]
    },
    {
     "name": "stdout",
     "output_type": "stream",
     "text": [
      "Jonas seu imc é de 30.864\n"
     ]
    }
   ],
   "source": [
    "nome = input('Qual seu nome: ')\n",
    "altura = float(input('Qual sua altura: '))\n",
    "peso = float(input('Qual seu peso: '))\n",
    "nome, imc = calcula_imc(nome, altura=altura, peso=peso)\n",
    "print(f'{nome} seu imc é de {imc:.3f}')"
   ]
  },
  {
   "cell_type": "code",
   "execution_count": 44,
   "id": "145a65e6-a93f-428e-b421-3a9de6b6ccc8",
   "metadata": {},
   "outputs": [
    {
     "name": "stdin",
     "output_type": "stream",
     "text": [
      "Qual seu nome:  Jonas\n",
      "Qual sua altura:  1.8\n",
      "Qual seu peso:  100\n"
     ]
    },
    {
     "name": "stdout",
     "output_type": "stream",
     "text": [
      "Jonas seu imc é de 30.864\n"
     ]
    }
   ],
   "source": [
    "#Podemos receber o resultado em uma tupla e depois pegar cada valor na hora de imprimir\n",
    "nome = input('Qual seu nome: ')\n",
    "altura = float(input('Qual sua altura: '))\n",
    "peso = float(input('Qual seu peso: '))\n",
    "tupla = calcula_imc(nome, altura=altura, peso=peso)\n",
    "print(f'{tupla[0]} seu imc é de {tupla[1]:.3f}')"
   ]
  },
  {
   "cell_type": "code",
   "execution_count": 45,
   "id": "c82b36e7-e158-4e13-98c5-51478c6c97d5",
   "metadata": {},
   "outputs": [
    {
     "name": "stdout",
     "output_type": "stream",
     "text": [
      "15\n"
     ]
    }
   ],
   "source": [
    "l = [1,2,3,4,5]\n",
    "print(sum(l))"
   ]
  },
  {
   "cell_type": "code",
   "execution_count": 50,
   "id": "91a0c954-6715-43d8-bf16-471ad8ce8a66",
   "metadata": {},
   "outputs": [
    {
     "name": "stdout",
     "output_type": "stream",
     "text": [
      "28\n"
     ]
    }
   ],
   "source": [
    "#Receber vários parâmetros\n",
    "def soma_numeros(*numeros):\n",
    "    soma = 0\n",
    "    for i in numeros:\n",
    "        soma+=i\n",
    "    return soma\n",
    "\n",
    "soma = soma_numeros(1,2,3,4,5,6,7)\n",
    "print(soma)"
   ]
  },
  {
   "cell_type": "code",
   "execution_count": 51,
   "id": "ee53e867-73cc-4dee-b977-8f9c109f894e",
   "metadata": {},
   "outputs": [
    {
     "name": "stdout",
     "output_type": "stream",
     "text": [
      "28\n"
     ]
    }
   ],
   "source": [
    "#Receber vários parâmetros\n",
    "def soma_numeros(*numeros):\n",
    "    return sum(numeros)\n",
    "\n",
    "soma = soma_numeros(1,2,3,4,5,6,7)\n",
    "print(soma)"
   ]
  },
  {
   "cell_type": "code",
   "execution_count": 59,
   "id": "52b37a47-b20d-454e-ba05-a889f8042e5a",
   "metadata": {},
   "outputs": [
    {
     "name": "stdout",
     "output_type": "stream",
     "text": [
      "nome:Jonas\n",
      "idade:25\n",
      "nota:10\n",
      "altura:1.8\n"
     ]
    }
   ],
   "source": [
    "def mostra_informacoes(**info):\n",
    "    for chave, valor in info.items():\n",
    "        print(f'{chave}:{valor}')\n",
    "\n",
    "mostra_informacoes(nome='Jonas',idade=25,nota=10,altura=1.8)"
   ]
  },
  {
   "cell_type": "code",
   "execution_count": 77,
   "id": "0b7c2eb3-cb7c-4cf6-8d10-b6c91a7d699e",
   "metadata": {},
   "outputs": [
    {
     "name": "stdout",
     "output_type": "stream",
     "text": [
      "10\n",
      "5\n"
     ]
    }
   ],
   "source": [
    "#Manipular variáveis globais dentro de funções\n",
    "\n",
    "x = 10\n",
    "\n",
    "def soma(valor):\n",
    "    x = valor\n",
    "    print(x)\n",
    "\n",
    "print(x)\n",
    "soma(5)"
   ]
  },
  {
   "cell_type": "code",
   "execution_count": 75,
   "id": "f25b6684-49e8-45cd-bb16-4b52dcd4339d",
   "metadata": {},
   "outputs": [
    {
     "name": "stdout",
     "output_type": "stream",
     "text": [
      "10\n",
      "15\n"
     ]
    }
   ],
   "source": [
    "#Manipular variáveis globais dentro de funções\n",
    "\n",
    "x = 10\n",
    "\n",
    "def soma(valor):\n",
    "    global x\n",
    "    x = x + valor\n",
    "    print(x)\n",
    "\n",
    "print(x)\n",
    "soma(5)"
   ]
  },
  {
   "cell_type": "markdown",
   "id": "382aa236-9d5e-459a-b703-af77c12fc385",
   "metadata": {},
   "source": [
    "# POO (Programação Orientada a Objetos)"
   ]
  },
  {
   "cell_type": "code",
   "execution_count": 78,
   "id": "d0a66c1d-ff74-41d8-b8c1-b2d930c2ce5f",
   "metadata": {},
   "outputs": [],
   "source": [
    "class Pessoa:\n",
    "    #Método construtor da classe, que assim como todos os outros recebe self\n",
    "    def __init__(self, nome, idade):\n",
    "        self.nome = nome\n",
    "        self.idade = idade\n",
    "\n",
    "    def apresentar(self):\n",
    "        print(f'Nome: {self.nome} idade: {self.idade}')\n",
    "        #print('Nome:',self.nome,'idade:',self.idade)"
   ]
  },
  {
   "cell_type": "code",
   "execution_count": 81,
   "id": "4b7d6bca-8a2f-4629-944d-5800b5544874",
   "metadata": {},
   "outputs": [
    {
     "name": "stdout",
     "output_type": "stream",
     "text": [
      "Nome: Jonas idade: 18\n",
      "O nome da pessoa_um é Jonas\n",
      "{'nome': 'Jonas', 'idade': 18}\n"
     ]
    }
   ],
   "source": [
    "pessoa_um = Pessoa('Jonas',18)\n",
    "pessoa_um.apresentar()\n",
    "print(f'O nome da pessoa_um é {pessoa_um.nome}')\n",
    "print(pessoa_um.__dict__)"
   ]
  },
  {
   "cell_type": "code",
   "execution_count": 91,
   "id": "04f7cd7f-fc9c-4ae4-9ca3-c03e56a6767b",
   "metadata": {},
   "outputs": [],
   "source": [
    "class Conta:\n",
    "    def __init__(self, titular, valor):\n",
    "        #Atributo protegido\n",
    "        self._titular = titular\n",
    "        #Atributo privado\n",
    "        self.__saldo = valor\n",
    "\n",
    "    def depositar(self, valor):\n",
    "        if valor>0:\n",
    "            self.__saldo+=valor\n",
    "\n",
    "    def sacar(self, valor):\n",
    "        if self.__saldo>=valor:\n",
    "            self.__saldo-=valor\n",
    "\n",
    "    def saldo(self):\n",
    "        return f'{self._titular}, seu saldo é de R$ {self.__saldo:.2f}'\n",
    "\n",
    "    "
   ]
  },
  {
   "cell_type": "code",
   "execution_count": 102,
   "id": "26202b4b-19ac-49d0-a358-527a9488f464",
   "metadata": {},
   "outputs": [
    {
     "name": "stdout",
     "output_type": "stream",
     "text": [
      "Jonas, seu saldo é de R$ 100.00\n",
      "Jonas, seu saldo é de R$ 100.00\n",
      "{'_titular': 'Jonas', '_Conta__saldo': 100}\n",
      "O titular da conta é  Jonas\n",
      "O saldo da conta é 100\n"
     ]
    }
   ],
   "source": [
    "conta_um = Conta('Jonas',100)\n",
    "print(conta_um.saldo())\n",
    "print(conta_um.saldo())\n",
    "print(conta_um.__dict__)\n",
    "print('O titular da conta é ',conta_um._titular)\n",
    "#Atributos privados não podem ser acessados\n",
    "#print('O saldo da conta é ',conta_um.__saldo)\n",
    "#Acessando um atributo privado por meio do embaralhamento\n",
    "print('O saldo da conta é',conta_um._Conta__saldo)"
   ]
  },
  {
   "cell_type": "code",
   "execution_count": 110,
   "id": "a0386bbf-8080-4b4f-8d07-c43681e7f014",
   "metadata": {},
   "outputs": [],
   "source": [
    "#Criando uma classe genérica para representar um animal\n",
    "class Animal:\n",
    "    #Criando um construtor para essa classe\n",
    "    def __init__(self,nome):\n",
    "        self.nome = nome\n",
    "    #Criando um método para classe Animal    \n",
    "    def emitir_som(self):\n",
    "        print('Animais fazem barulho')\n",
    "\n",
    "#Criando uma subclasse de Animal chamada Cachorro\n",
    "class Cachorro(Animal):\n",
    "    #Definindo um construtor para classe Cachorro\n",
    "    def __init__(self,nome, raca):\n",
    "        #Chamando o construtor da super classe\n",
    "        super().__init__(nome)\n",
    "        self.raca = raca\n",
    "    #Polimorfismo, estou sobrescrevendo o método emitir_som    \n",
    "    def emitir_som(self):\n",
    "        print(f'{self.nome} faz au au!')    "
   ]
  },
  {
   "cell_type": "code",
   "execution_count": 111,
   "id": "6802a690-85ae-4d6f-8769-c3b452f157a6",
   "metadata": {},
   "outputs": [
    {
     "name": "stdout",
     "output_type": "stream",
     "text": [
      "Bobi faz au au!\n"
     ]
    }
   ],
   "source": [
    "bobi = Cachorro('Bobi', 'caramelo')\n",
    "bobi.emitir_som()"
   ]
  },
  {
   "cell_type": "code",
   "execution_count": 112,
   "id": "131c52a0-e987-4e45-b259-2d94aec425a8",
   "metadata": {},
   "outputs": [
    {
     "name": "stdout",
     "output_type": "stream",
     "text": [
      "Animais fazem barulho\n"
     ]
    }
   ],
   "source": [
    "animal_um = Animal('Genérico')\n",
    "animal_um.emitir_som()"
   ]
  }
 ],
 "metadata": {
  "kernelspec": {
   "display_name": "Python 3 (ipykernel)",
   "language": "python",
   "name": "python3"
  },
  "language_info": {
   "codemirror_mode": {
    "name": "ipython",
    "version": 3
   },
   "file_extension": ".py",
   "mimetype": "text/x-python",
   "name": "python",
   "nbconvert_exporter": "python",
   "pygments_lexer": "ipython3",
   "version": "3.13.7"
  }
 },
 "nbformat": 4,
 "nbformat_minor": 5
}
